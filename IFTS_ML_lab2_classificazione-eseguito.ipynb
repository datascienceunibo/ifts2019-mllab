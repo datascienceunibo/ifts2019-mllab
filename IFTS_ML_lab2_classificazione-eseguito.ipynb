{
 "cells": [
  {
   "cell_type": "markdown",
   "metadata": {},
   "source": [
    "**IFTS** TECNICO DEL DISEGNO E PROGETTAZIONE INDUSTRIALE SPECIALIZZATO IN SMART MANUFACTURING (2019)  \n",
    "**INDUSTRIA 4.0 - Tecnologie Informatiche di Riferimento**\n",
    "\n",
    "# Machine Learning\n",
    "\n",
    "## Esercitazione 2: Classificazione\n",
    "\n",
    "Gianluca Moro, **Roberto Pasolini**  \n",
    "DISI - Dipartimento di Informatica - Scienza e Ingegneria  \n",
    "Università di Bologna  \n",
    "nome.cognome@unibo.it"
   ]
  },
  {
   "cell_type": "markdown",
   "metadata": {},
   "source": [
    "## Esempio 3: valutazione del rischio di credito\n",
    "\n",
    "Una banca vuole ottenere un modello per la valutazione del rischio nella concessione di prestiti. Per questo ha a disposizione un insieme di casi già etichettati come \"sicuri\" o \"a rischio\".\n",
    "\n",
    "Si tratta di un problema di classificazione: per ogni nuovo caso, il modello deve indicare una di queste due etichette.\n",
    "\n",
    "Iniziamo caricando i dati, che si trovano nel file CSV `bank.csv`."
   ]
  },
  {
   "cell_type": "code",
   "execution_count": 1,
   "metadata": {},
   "outputs": [],
   "source": [
    "import pandas as pd\n",
    "data = pd.read_csv(\"bank.csv\")"
   ]
  },
  {
   "cell_type": "markdown",
   "metadata": {},
   "source": [
    "Vediamo il numero di righe e di colonne"
   ]
  },
  {
   "cell_type": "code",
   "execution_count": 2,
   "metadata": {},
   "outputs": [
    {
     "data": {
      "text/plain": [
       "(637, 22)"
      ]
     },
     "execution_count": 2,
     "metadata": {},
     "output_type": "execute_result"
    }
   ],
   "source": [
    "data.shape"
   ]
  },
  {
   "cell_type": "markdown",
   "metadata": {},
   "source": [
    "Vediamo alcuni esempi di dati dalle prime righe (`head`) e dalle ultime (`tail`); nella visualizzazione alcune colonne sono omesse per brevità."
   ]
  },
  {
   "cell_type": "code",
   "execution_count": 3,
   "metadata": {},
   "outputs": [
    {
     "data": {
      "text/html": [
       "<div>\n",
       "<style scoped>\n",
       "    .dataframe tbody tr th:only-of-type {\n",
       "        vertical-align: middle;\n",
       "    }\n",
       "\n",
       "    .dataframe tbody tr th {\n",
       "        vertical-align: top;\n",
       "    }\n",
       "\n",
       "    .dataframe thead th {\n",
       "        text-align: right;\n",
       "    }\n",
       "</style>\n",
       "<table border=\"1\" class=\"dataframe\">\n",
       "  <thead>\n",
       "    <tr style=\"text-align: right;\">\n",
       "      <th></th>\n",
       "      <th>AccountStatus</th>\n",
       "      <th>Months</th>\n",
       "      <th>CreditHistory</th>\n",
       "      <th>Purpose</th>\n",
       "      <th>Amount</th>\n",
       "      <th>Savings</th>\n",
       "      <th>Employment</th>\n",
       "      <th>InstallmentRate</th>\n",
       "      <th>Sex</th>\n",
       "      <th>Status</th>\n",
       "      <th>...</th>\n",
       "      <th>Property</th>\n",
       "      <th>Age</th>\n",
       "      <th>InstallmentPlans</th>\n",
       "      <th>Housing</th>\n",
       "      <th>CreditsHere</th>\n",
       "      <th>Job</th>\n",
       "      <th>LiablePeople</th>\n",
       "      <th>Telephone</th>\n",
       "      <th>ForeignWorker</th>\n",
       "      <th>Risk</th>\n",
       "    </tr>\n",
       "  </thead>\n",
       "  <tbody>\n",
       "    <tr>\n",
       "      <th>0</th>\n",
       "      <td>0 - 200 DM</td>\n",
       "      <td>13.0</td>\n",
       "      <td>Critical</td>\n",
       "      <td>Radio/television</td>\n",
       "      <td>882.0</td>\n",
       "      <td>&lt; 100 DM</td>\n",
       "      <td>&lt; 1 year</td>\n",
       "      <td>4.0</td>\n",
       "      <td>Male</td>\n",
       "      <td>Single</td>\n",
       "      <td>...</td>\n",
       "      <td>Real estate</td>\n",
       "      <td>23.0</td>\n",
       "      <td>None</td>\n",
       "      <td>Own</td>\n",
       "      <td>2.0</td>\n",
       "      <td>Employee</td>\n",
       "      <td>1.0</td>\n",
       "      <td>None</td>\n",
       "      <td>Yes</td>\n",
       "      <td>Good</td>\n",
       "    </tr>\n",
       "    <tr>\n",
       "      <th>1</th>\n",
       "      <td>&gt;= 200 DM / salary &gt;1yr</td>\n",
       "      <td>15.0</td>\n",
       "      <td>Some paid back</td>\n",
       "      <td>Business</td>\n",
       "      <td>2687.0</td>\n",
       "      <td>&lt; 100 DM</td>\n",
       "      <td>4 - 7 years</td>\n",
       "      <td>2.0</td>\n",
       "      <td>Male</td>\n",
       "      <td>Single</td>\n",
       "      <td>...</td>\n",
       "      <td>Bldg. society savings / Life insurance</td>\n",
       "      <td>26.0</td>\n",
       "      <td>None</td>\n",
       "      <td>Rent</td>\n",
       "      <td>1.0</td>\n",
       "      <td>Employee</td>\n",
       "      <td>1.0</td>\n",
       "      <td>Registered</td>\n",
       "      <td>Yes</td>\n",
       "      <td>Good</td>\n",
       "    </tr>\n",
       "    <tr>\n",
       "      <th>2</th>\n",
       "      <td>No account</td>\n",
       "      <td>6.0</td>\n",
       "      <td>Some paid back</td>\n",
       "      <td>Domestic appliances</td>\n",
       "      <td>1338.0</td>\n",
       "      <td>500 - 1000 DM</td>\n",
       "      <td>1 - 4 years</td>\n",
       "      <td>1.0</td>\n",
       "      <td>Male</td>\n",
       "      <td>Married/Separated/Widowed</td>\n",
       "      <td>...</td>\n",
       "      <td>Real estate</td>\n",
       "      <td>62.0</td>\n",
       "      <td>None</td>\n",
       "      <td>Own</td>\n",
       "      <td>1.0</td>\n",
       "      <td>Employee</td>\n",
       "      <td>1.0</td>\n",
       "      <td>None</td>\n",
       "      <td>Yes</td>\n",
       "      <td>Good</td>\n",
       "    </tr>\n",
       "    <tr>\n",
       "      <th>3</th>\n",
       "      <td>No account</td>\n",
       "      <td>24.0</td>\n",
       "      <td>Critical</td>\n",
       "      <td>Car (new)</td>\n",
       "      <td>1287.0</td>\n",
       "      <td>&gt;= 1000 DM</td>\n",
       "      <td>&gt;= 7 years</td>\n",
       "      <td>4.0</td>\n",
       "      <td>Female</td>\n",
       "      <td>Married/Separated/Widowed</td>\n",
       "      <td>...</td>\n",
       "      <td>Real estate</td>\n",
       "      <td>37.0</td>\n",
       "      <td>None</td>\n",
       "      <td>Own</td>\n",
       "      <td>2.0</td>\n",
       "      <td>Employee</td>\n",
       "      <td>1.0</td>\n",
       "      <td>Registered</td>\n",
       "      <td>Yes</td>\n",
       "      <td>Good</td>\n",
       "    </tr>\n",
       "    <tr>\n",
       "      <th>4</th>\n",
       "      <td>&lt; 0 DM</td>\n",
       "      <td>21.0</td>\n",
       "      <td>Some paid back</td>\n",
       "      <td>Radio/television</td>\n",
       "      <td>2606.0</td>\n",
       "      <td>&lt; 100 DM</td>\n",
       "      <td>&lt; 1 year</td>\n",
       "      <td>4.0</td>\n",
       "      <td>Female</td>\n",
       "      <td>Married/Separated/Widowed</td>\n",
       "      <td>...</td>\n",
       "      <td>Bldg. society savings / Life insurance</td>\n",
       "      <td>28.0</td>\n",
       "      <td>None</td>\n",
       "      <td>Rent</td>\n",
       "      <td>1.0</td>\n",
       "      <td>Mgmt / Self-employed / other</td>\n",
       "      <td>1.0</td>\n",
       "      <td>Registered</td>\n",
       "      <td>Yes</td>\n",
       "      <td>Good</td>\n",
       "    </tr>\n",
       "  </tbody>\n",
       "</table>\n",
       "<p>5 rows × 22 columns</p>\n",
       "</div>"
      ],
      "text/plain": [
       "             AccountStatus  Months   CreditHistory              Purpose  \\\n",
       "0               0 - 200 DM    13.0        Critical     Radio/television   \n",
       "1  >= 200 DM / salary >1yr    15.0  Some paid back             Business   \n",
       "2               No account     6.0  Some paid back  Domestic appliances   \n",
       "3               No account    24.0        Critical            Car (new)   \n",
       "4                   < 0 DM    21.0  Some paid back     Radio/television   \n",
       "\n",
       "   Amount        Savings   Employment  InstallmentRate     Sex  \\\n",
       "0   882.0       < 100 DM     < 1 year              4.0    Male   \n",
       "1  2687.0       < 100 DM  4 - 7 years              2.0    Male   \n",
       "2  1338.0  500 - 1000 DM  1 - 4 years              1.0    Male   \n",
       "3  1287.0     >= 1000 DM   >= 7 years              4.0  Female   \n",
       "4  2606.0       < 100 DM     < 1 year              4.0  Female   \n",
       "\n",
       "                      Status  ...                                Property  \\\n",
       "0                     Single  ...                             Real estate   \n",
       "1                     Single  ...  Bldg. society savings / Life insurance   \n",
       "2  Married/Separated/Widowed  ...                             Real estate   \n",
       "3  Married/Separated/Widowed  ...                             Real estate   \n",
       "4  Married/Separated/Widowed  ...  Bldg. society savings / Life insurance   \n",
       "\n",
       "    Age InstallmentPlans  Housing CreditsHere                           Job  \\\n",
       "0  23.0             None      Own         2.0                      Employee   \n",
       "1  26.0             None     Rent         1.0                      Employee   \n",
       "2  62.0             None      Own         1.0                      Employee   \n",
       "3  37.0             None      Own         2.0                      Employee   \n",
       "4  28.0             None     Rent         1.0  Mgmt / Self-employed / other   \n",
       "\n",
       "   LiablePeople   Telephone  ForeignWorker  Risk  \n",
       "0           1.0        None            Yes  Good  \n",
       "1           1.0  Registered            Yes  Good  \n",
       "2           1.0        None            Yes  Good  \n",
       "3           1.0  Registered            Yes  Good  \n",
       "4           1.0  Registered            Yes  Good  \n",
       "\n",
       "[5 rows x 22 columns]"
      ]
     },
     "execution_count": 3,
     "metadata": {},
     "output_type": "execute_result"
    }
   ],
   "source": [
    "data.head(5)"
   ]
  },
  {
   "cell_type": "code",
   "execution_count": 4,
   "metadata": {},
   "outputs": [
    {
     "data": {
      "text/html": [
       "<div>\n",
       "<style scoped>\n",
       "    .dataframe tbody tr th:only-of-type {\n",
       "        vertical-align: middle;\n",
       "    }\n",
       "\n",
       "    .dataframe tbody tr th {\n",
       "        vertical-align: top;\n",
       "    }\n",
       "\n",
       "    .dataframe thead th {\n",
       "        text-align: right;\n",
       "    }\n",
       "</style>\n",
       "<table border=\"1\" class=\"dataframe\">\n",
       "  <thead>\n",
       "    <tr style=\"text-align: right;\">\n",
       "      <th></th>\n",
       "      <th>AccountStatus</th>\n",
       "      <th>Months</th>\n",
       "      <th>CreditHistory</th>\n",
       "      <th>Purpose</th>\n",
       "      <th>Amount</th>\n",
       "      <th>Savings</th>\n",
       "      <th>Employment</th>\n",
       "      <th>InstallmentRate</th>\n",
       "      <th>Sex</th>\n",
       "      <th>Status</th>\n",
       "      <th>...</th>\n",
       "      <th>Property</th>\n",
       "      <th>Age</th>\n",
       "      <th>InstallmentPlans</th>\n",
       "      <th>Housing</th>\n",
       "      <th>CreditsHere</th>\n",
       "      <th>Job</th>\n",
       "      <th>LiablePeople</th>\n",
       "      <th>Telephone</th>\n",
       "      <th>ForeignWorker</th>\n",
       "      <th>Risk</th>\n",
       "    </tr>\n",
       "  </thead>\n",
       "  <tbody>\n",
       "    <tr>\n",
       "      <th>632</th>\n",
       "      <td>0 - 200 DM</td>\n",
       "      <td>24.0</td>\n",
       "      <td>Some paid back</td>\n",
       "      <td>Furniture/equipment</td>\n",
       "      <td>4057.0</td>\n",
       "      <td>&lt; 100 DM</td>\n",
       "      <td>4 - 7 years</td>\n",
       "      <td>3.0</td>\n",
       "      <td>Male</td>\n",
       "      <td>Married/Separated/Widowed</td>\n",
       "      <td>...</td>\n",
       "      <td>Car or other</td>\n",
       "      <td>43.0</td>\n",
       "      <td>None</td>\n",
       "      <td>Own</td>\n",
       "      <td>1.0</td>\n",
       "      <td>Employee</td>\n",
       "      <td>1.0</td>\n",
       "      <td>Registered</td>\n",
       "      <td>Yes</td>\n",
       "      <td>Bad</td>\n",
       "    </tr>\n",
       "    <tr>\n",
       "      <th>633</th>\n",
       "      <td>No account</td>\n",
       "      <td>6.0</td>\n",
       "      <td>Some paid back</td>\n",
       "      <td>Furniture/equipment</td>\n",
       "      <td>4611.0</td>\n",
       "      <td>&lt; 100 DM</td>\n",
       "      <td>&lt; 1 year</td>\n",
       "      <td>1.0</td>\n",
       "      <td>Female</td>\n",
       "      <td>Married/Separated/Widowed</td>\n",
       "      <td>...</td>\n",
       "      <td>Bldg. society savings / Life insurance</td>\n",
       "      <td>32.0</td>\n",
       "      <td>None</td>\n",
       "      <td>Own</td>\n",
       "      <td>1.0</td>\n",
       "      <td>Employee</td>\n",
       "      <td>1.0</td>\n",
       "      <td>None</td>\n",
       "      <td>Yes</td>\n",
       "      <td>Bad</td>\n",
       "    </tr>\n",
       "    <tr>\n",
       "      <th>634</th>\n",
       "      <td>0 - 200 DM</td>\n",
       "      <td>60.0</td>\n",
       "      <td>All paid back</td>\n",
       "      <td>Other</td>\n",
       "      <td>14782.0</td>\n",
       "      <td>100 - 500 DM</td>\n",
       "      <td>&gt;= 7 years</td>\n",
       "      <td>3.0</td>\n",
       "      <td>Female</td>\n",
       "      <td>Married/Separated/Widowed</td>\n",
       "      <td>...</td>\n",
       "      <td>Unknown/None</td>\n",
       "      <td>60.0</td>\n",
       "      <td>Bank</td>\n",
       "      <td>For free</td>\n",
       "      <td>2.0</td>\n",
       "      <td>Mgmt / Self-employed / other</td>\n",
       "      <td>1.0</td>\n",
       "      <td>Registered</td>\n",
       "      <td>Yes</td>\n",
       "      <td>Bad</td>\n",
       "    </tr>\n",
       "    <tr>\n",
       "      <th>635</th>\n",
       "      <td>&lt; 0 DM</td>\n",
       "      <td>36.0</td>\n",
       "      <td>Critical</td>\n",
       "      <td>Car (used)</td>\n",
       "      <td>9629.0</td>\n",
       "      <td>&lt; 100 DM</td>\n",
       "      <td>4 - 7 years</td>\n",
       "      <td>4.0</td>\n",
       "      <td>Male</td>\n",
       "      <td>Single</td>\n",
       "      <td>...</td>\n",
       "      <td>Car or other</td>\n",
       "      <td>24.0</td>\n",
       "      <td>None</td>\n",
       "      <td>Own</td>\n",
       "      <td>2.0</td>\n",
       "      <td>Employee</td>\n",
       "      <td>1.0</td>\n",
       "      <td>Registered</td>\n",
       "      <td>Yes</td>\n",
       "      <td>Bad</td>\n",
       "    </tr>\n",
       "    <tr>\n",
       "      <th>636</th>\n",
       "      <td>&lt; 0 DM</td>\n",
       "      <td>48.0</td>\n",
       "      <td>Critical</td>\n",
       "      <td>Car (used)</td>\n",
       "      <td>6331.0</td>\n",
       "      <td>&lt; 100 DM</td>\n",
       "      <td>&gt;= 7 years</td>\n",
       "      <td>4.0</td>\n",
       "      <td>Male</td>\n",
       "      <td>Single</td>\n",
       "      <td>...</td>\n",
       "      <td>Unknown/None</td>\n",
       "      <td>46.0</td>\n",
       "      <td>None</td>\n",
       "      <td>For free</td>\n",
       "      <td>2.0</td>\n",
       "      <td>Employee</td>\n",
       "      <td>1.0</td>\n",
       "      <td>Registered</td>\n",
       "      <td>Yes</td>\n",
       "      <td>Bad</td>\n",
       "    </tr>\n",
       "  </tbody>\n",
       "</table>\n",
       "<p>5 rows × 22 columns</p>\n",
       "</div>"
      ],
      "text/plain": [
       "    AccountStatus  Months   CreditHistory              Purpose   Amount  \\\n",
       "632    0 - 200 DM    24.0  Some paid back  Furniture/equipment   4057.0   \n",
       "633    No account     6.0  Some paid back  Furniture/equipment   4611.0   \n",
       "634    0 - 200 DM    60.0   All paid back                Other  14782.0   \n",
       "635        < 0 DM    36.0        Critical           Car (used)   9629.0   \n",
       "636        < 0 DM    48.0        Critical           Car (used)   6331.0   \n",
       "\n",
       "          Savings   Employment  InstallmentRate     Sex  \\\n",
       "632      < 100 DM  4 - 7 years              3.0    Male   \n",
       "633      < 100 DM     < 1 year              1.0  Female   \n",
       "634  100 - 500 DM   >= 7 years              3.0  Female   \n",
       "635      < 100 DM  4 - 7 years              4.0    Male   \n",
       "636      < 100 DM   >= 7 years              4.0    Male   \n",
       "\n",
       "                        Status  ...                                Property  \\\n",
       "632  Married/Separated/Widowed  ...                            Car or other   \n",
       "633  Married/Separated/Widowed  ...  Bldg. society savings / Life insurance   \n",
       "634  Married/Separated/Widowed  ...                            Unknown/None   \n",
       "635                     Single  ...                            Car or other   \n",
       "636                     Single  ...                            Unknown/None   \n",
       "\n",
       "      Age InstallmentPlans   Housing CreditsHere  \\\n",
       "632  43.0             None       Own         1.0   \n",
       "633  32.0             None       Own         1.0   \n",
       "634  60.0             Bank  For free         2.0   \n",
       "635  24.0             None       Own         2.0   \n",
       "636  46.0             None  For free         2.0   \n",
       "\n",
       "                              Job  LiablePeople   Telephone  ForeignWorker  \\\n",
       "632                      Employee           1.0  Registered            Yes   \n",
       "633                      Employee           1.0        None            Yes   \n",
       "634  Mgmt / Self-employed / other           1.0  Registered            Yes   \n",
       "635                      Employee           1.0  Registered            Yes   \n",
       "636                      Employee           1.0  Registered            Yes   \n",
       "\n",
       "    Risk  \n",
       "632  Bad  \n",
       "633  Bad  \n",
       "634  Bad  \n",
       "635  Bad  \n",
       "636  Bad  \n",
       "\n",
       "[5 rows x 22 columns]"
      ]
     },
     "execution_count": 4,
     "metadata": {},
     "output_type": "execute_result"
    }
   ],
   "source": [
    "data.tail(5)"
   ]
  },
  {
   "cell_type": "markdown",
   "metadata": {},
   "source": [
    "La colonna \"Risk\" sulla destra è ciò che vogliamo predire: è \"Good\" per i clienti considerati sicuri e \"Bad\" per quelli considerati a rischio. Possiamo usare la funzione `value_counts` per vedere quanti esempi sono presenti di un tipo e dell'altro."
   ]
  },
  {
   "cell_type": "code",
   "execution_count": 5,
   "metadata": {},
   "outputs": [
    {
     "data": {
      "text/plain": [
       "Good    348\n",
       "Bad     289\n",
       "Name: Risk, dtype: int64"
      ]
     },
     "execution_count": 5,
     "metadata": {},
     "output_type": "execute_result"
    }
   ],
   "source": [
    "data[\"Risk\"].value_counts()"
   ]
  },
  {
   "cell_type": "markdown",
   "metadata": {},
   "source": [
    "Per iniziare, come abbiamo fatto negli esempi con la regressione, dividiamo i dati in un training set per addestrare i modelli e in un validation set per valutarne l'accuratezza, distinguendo la variabile che vogliamo predire (\"Risk\") da quelle su cui vogliamo basare la predizione (tutte le altre)."
   ]
  },
  {
   "cell_type": "code",
   "execution_count": 6,
   "metadata": {},
   "outputs": [],
   "source": [
    "from sklearn.model_selection import train_test_split\n",
    "X_train, X_val, y_train, y_val = \\\n",
    "    train_test_split(data.drop(columns=[\"Risk\"]), data[\"Risk\"], test_size=0.3, random_state=42)"
   ]
  },
  {
   "cell_type": "markdown",
   "metadata": {},
   "source": [
    "## Conversione variabili categoriche\n",
    "\n",
    "Nella tabella sono presenti due tipi di variabili: quelle _numeriche_ in cui ciascun valore è un numero (es. \"Amount\", \"InstallmentRate\", ecc.) e quelle _categoriche_ i cui valori possibili sono ristretti ad un insieme specifico (es. \"Sex\" può essere \"Male\" o \"Female\").\n",
    "\n",
    "Diversi algoritmi di ML possono gestire solamente variabili di tipo numerico. Tuttavia ogni variabile di tipo categorico con N valori possibili può essere facilmente convertita in N variabili numeriche: ciascuna variabile avrà valore 1 nei casi in cui la variabile categorica ha il valore che rappresenta e 0 negli altri casi. Tale codifica delle variabili categoriche è detta _one-hot encoding_.\n",
    "\n",
    "Definiamo una funzione che sostituisca le variabili categoriche con tale codifica."
   ]
  },
  {
   "cell_type": "code",
   "execution_count": 7,
   "metadata": {},
   "outputs": [],
   "source": [
    "def encode_categorical(df):\n",
    "    return pd.concat(\n",
    "        [pd.get_dummies(df[col], col) if df[col].dtype == object else df[[col]]\n",
    "         for col in df], axis=1)"
   ]
  },
  {
   "cell_type": "markdown",
   "metadata": {},
   "source": [
    "Applichiamola quindi alle tabelle `X_train` e `X_val`."
   ]
  },
  {
   "cell_type": "code",
   "execution_count": 8,
   "metadata": {},
   "outputs": [],
   "source": [
    "X_train = encode_categorical(X_train)\n",
    "X_val = encode_categorical(X_val)"
   ]
  },
  {
   "cell_type": "markdown",
   "metadata": {},
   "source": [
    "Tutte le variabili predittive (X) sono ora numeriche."
   ]
  },
  {
   "cell_type": "code",
   "execution_count": 9,
   "metadata": {},
   "outputs": [
    {
     "data": {
      "text/html": [
       "<div>\n",
       "<style scoped>\n",
       "    .dataframe tbody tr th:only-of-type {\n",
       "        vertical-align: middle;\n",
       "    }\n",
       "\n",
       "    .dataframe tbody tr th {\n",
       "        vertical-align: top;\n",
       "    }\n",
       "\n",
       "    .dataframe thead th {\n",
       "        text-align: right;\n",
       "    }\n",
       "</style>\n",
       "<table border=\"1\" class=\"dataframe\">\n",
       "  <thead>\n",
       "    <tr style=\"text-align: right;\">\n",
       "      <th></th>\n",
       "      <th>AccountStatus_0 - 200 DM</th>\n",
       "      <th>AccountStatus_&lt; 0 DM</th>\n",
       "      <th>AccountStatus_&gt;= 200 DM / salary &gt;1yr</th>\n",
       "      <th>AccountStatus_No account</th>\n",
       "      <th>Months</th>\n",
       "      <th>CreditHistory_All paid back</th>\n",
       "      <th>CreditHistory_Critical</th>\n",
       "      <th>CreditHistory_No history</th>\n",
       "      <th>CreditHistory_Past delays</th>\n",
       "      <th>CreditHistory_Some paid back</th>\n",
       "      <th>...</th>\n",
       "      <th>CreditsHere</th>\n",
       "      <th>Job_Employee</th>\n",
       "      <th>Job_Mgmt / Self-employed / other</th>\n",
       "      <th>Job_Unemployed/unskilled non-resident</th>\n",
       "      <th>Job_Unskilled resident</th>\n",
       "      <th>LiablePeople</th>\n",
       "      <th>Telephone_None</th>\n",
       "      <th>Telephone_Registered</th>\n",
       "      <th>ForeignWorker_No</th>\n",
       "      <th>ForeignWorker_Yes</th>\n",
       "    </tr>\n",
       "  </thead>\n",
       "  <tbody>\n",
       "    <tr>\n",
       "      <th>75</th>\n",
       "      <td>1</td>\n",
       "      <td>0</td>\n",
       "      <td>0</td>\n",
       "      <td>0</td>\n",
       "      <td>20.0</td>\n",
       "      <td>0</td>\n",
       "      <td>0</td>\n",
       "      <td>0</td>\n",
       "      <td>1</td>\n",
       "      <td>0</td>\n",
       "      <td>...</td>\n",
       "      <td>2.0</td>\n",
       "      <td>0</td>\n",
       "      <td>1</td>\n",
       "      <td>0</td>\n",
       "      <td>0</td>\n",
       "      <td>2.0</td>\n",
       "      <td>0</td>\n",
       "      <td>1</td>\n",
       "      <td>0</td>\n",
       "      <td>1</td>\n",
       "    </tr>\n",
       "    <tr>\n",
       "      <th>92</th>\n",
       "      <td>0</td>\n",
       "      <td>0</td>\n",
       "      <td>0</td>\n",
       "      <td>1</td>\n",
       "      <td>10.0</td>\n",
       "      <td>0</td>\n",
       "      <td>1</td>\n",
       "      <td>0</td>\n",
       "      <td>0</td>\n",
       "      <td>0</td>\n",
       "      <td>...</td>\n",
       "      <td>2.0</td>\n",
       "      <td>1</td>\n",
       "      <td>0</td>\n",
       "      <td>0</td>\n",
       "      <td>0</td>\n",
       "      <td>1.0</td>\n",
       "      <td>1</td>\n",
       "      <td>0</td>\n",
       "      <td>1</td>\n",
       "      <td>0</td>\n",
       "    </tr>\n",
       "    <tr>\n",
       "      <th>336</th>\n",
       "      <td>0</td>\n",
       "      <td>1</td>\n",
       "      <td>0</td>\n",
       "      <td>0</td>\n",
       "      <td>24.0</td>\n",
       "      <td>1</td>\n",
       "      <td>0</td>\n",
       "      <td>0</td>\n",
       "      <td>0</td>\n",
       "      <td>0</td>\n",
       "      <td>...</td>\n",
       "      <td>1.0</td>\n",
       "      <td>1</td>\n",
       "      <td>0</td>\n",
       "      <td>0</td>\n",
       "      <td>0</td>\n",
       "      <td>1.0</td>\n",
       "      <td>0</td>\n",
       "      <td>1</td>\n",
       "      <td>0</td>\n",
       "      <td>1</td>\n",
       "    </tr>\n",
       "    <tr>\n",
       "      <th>68</th>\n",
       "      <td>0</td>\n",
       "      <td>1</td>\n",
       "      <td>0</td>\n",
       "      <td>0</td>\n",
       "      <td>48.0</td>\n",
       "      <td>0</td>\n",
       "      <td>0</td>\n",
       "      <td>0</td>\n",
       "      <td>0</td>\n",
       "      <td>1</td>\n",
       "      <td>...</td>\n",
       "      <td>1.0</td>\n",
       "      <td>0</td>\n",
       "      <td>1</td>\n",
       "      <td>0</td>\n",
       "      <td>0</td>\n",
       "      <td>1.0</td>\n",
       "      <td>0</td>\n",
       "      <td>1</td>\n",
       "      <td>0</td>\n",
       "      <td>1</td>\n",
       "    </tr>\n",
       "    <tr>\n",
       "      <th>299</th>\n",
       "      <td>0</td>\n",
       "      <td>0</td>\n",
       "      <td>0</td>\n",
       "      <td>1</td>\n",
       "      <td>12.0</td>\n",
       "      <td>0</td>\n",
       "      <td>1</td>\n",
       "      <td>0</td>\n",
       "      <td>0</td>\n",
       "      <td>0</td>\n",
       "      <td>...</td>\n",
       "      <td>1.0</td>\n",
       "      <td>1</td>\n",
       "      <td>0</td>\n",
       "      <td>0</td>\n",
       "      <td>0</td>\n",
       "      <td>1.0</td>\n",
       "      <td>1</td>\n",
       "      <td>0</td>\n",
       "      <td>1</td>\n",
       "      <td>0</td>\n",
       "    </tr>\n",
       "  </tbody>\n",
       "</table>\n",
       "<p>5 rows × 61 columns</p>\n",
       "</div>"
      ],
      "text/plain": [
       "     AccountStatus_0 - 200 DM  AccountStatus_< 0 DM  \\\n",
       "75                          1                     0   \n",
       "92                          0                     0   \n",
       "336                         0                     1   \n",
       "68                          0                     1   \n",
       "299                         0                     0   \n",
       "\n",
       "     AccountStatus_>= 200 DM / salary >1yr  AccountStatus_No account  Months  \\\n",
       "75                                       0                         0    20.0   \n",
       "92                                       0                         1    10.0   \n",
       "336                                      0                         0    24.0   \n",
       "68                                       0                         0    48.0   \n",
       "299                                      0                         1    12.0   \n",
       "\n",
       "     CreditHistory_All paid back  CreditHistory_Critical  \\\n",
       "75                             0                       0   \n",
       "92                             0                       1   \n",
       "336                            1                       0   \n",
       "68                             0                       0   \n",
       "299                            0                       1   \n",
       "\n",
       "     CreditHistory_No history  CreditHistory_Past delays  \\\n",
       "75                          0                          1   \n",
       "92                          0                          0   \n",
       "336                         0                          0   \n",
       "68                          0                          0   \n",
       "299                         0                          0   \n",
       "\n",
       "     CreditHistory_Some paid back  ...  CreditsHere  Job_Employee  \\\n",
       "75                              0  ...          2.0             0   \n",
       "92                              0  ...          2.0             1   \n",
       "336                             0  ...          1.0             1   \n",
       "68                              1  ...          1.0             0   \n",
       "299                             0  ...          1.0             1   \n",
       "\n",
       "     Job_Mgmt / Self-employed / other  Job_Unemployed/unskilled non-resident  \\\n",
       "75                                  1                                      0   \n",
       "92                                  0                                      0   \n",
       "336                                 0                                      0   \n",
       "68                                  1                                      0   \n",
       "299                                 0                                      0   \n",
       "\n",
       "     Job_Unskilled resident  LiablePeople  Telephone_None  \\\n",
       "75                        0           2.0               0   \n",
       "92                        0           1.0               1   \n",
       "336                       0           1.0               0   \n",
       "68                        0           1.0               0   \n",
       "299                       0           1.0               1   \n",
       "\n",
       "     Telephone_Registered  ForeignWorker_No  ForeignWorker_Yes  \n",
       "75                      1                 0                  1  \n",
       "92                      0                 1                  0  \n",
       "336                     1                 0                  1  \n",
       "68                      1                 0                  1  \n",
       "299                     0                 1                  0  \n",
       "\n",
       "[5 rows x 61 columns]"
      ]
     },
     "execution_count": 9,
     "metadata": {},
     "output_type": "execute_result"
    }
   ],
   "source": [
    "X_train.head(5)"
   ]
  },
  {
   "cell_type": "markdown",
   "metadata": {},
   "source": [
    "## Alberi decisionali\n",
    "\n",
    "Gli _alberi decisionali_ sono una classe di modelli di classificazione molto usati nella pratica. Dai dati di addestramento viene costruito un diagramma ad albero, per classificare un elemento si segue un percorso dalla radice dell'albero ad una \"foglia\" con la classe predetta in base ai valori delle variabili. Tale modello ha il vantaggio di essere semplice da interpretare: osservando l'albero generato è immediato capire quali siano le variabili più importanti ai fini della predizione.\n",
    "\n",
    "L'uso di modelli di classificazione in scikit-learn è simile a quello dei modelli di regressione: iniziamo caricando la classe dei modelli che vogliamo usare."
   ]
  },
  {
   "cell_type": "code",
   "execution_count": 10,
   "metadata": {},
   "outputs": [],
   "source": [
    "from sklearn.tree import DecisionTreeClassifier"
   ]
  },
  {
   "cell_type": "markdown",
   "metadata": {},
   "source": [
    "Inizializziamo quindi un modello definendone i parametri: in questo caso usiamo `max_depth` che limita la profondità dell'albero e `random_state` che fissa le scelte casuali."
   ]
  },
  {
   "cell_type": "code",
   "execution_count": 11,
   "metadata": {},
   "outputs": [],
   "source": [
    "model = DecisionTreeClassifier(max_depth=10, random_state=123)"
   ]
  },
  {
   "cell_type": "markdown",
   "metadata": {},
   "source": [
    "Per addestrare il modello usiamo la funzione `fit` passando le variabili predittive (X) e i valori da prevedere (y) come nella regressione, con la differenza che quì i valori y sono le etichette \"Good\" e \"Bad\" invece di numeri."
   ]
  },
  {
   "cell_type": "code",
   "execution_count": 12,
   "metadata": {},
   "outputs": [
    {
     "data": {
      "text/plain": [
       "DecisionTreeClassifier(class_weight=None, criterion='gini', max_depth=10,\n",
       "            max_features=None, max_leaf_nodes=None,\n",
       "            min_impurity_decrease=0.0, min_impurity_split=None,\n",
       "            min_samples_leaf=1, min_samples_split=2,\n",
       "            min_weight_fraction_leaf=0.0, presort=False, random_state=123,\n",
       "            splitter='best')"
      ]
     },
     "execution_count": 12,
     "metadata": {},
     "output_type": "execute_result"
    }
   ],
   "source": [
    "model.fit(X_train, y_train)"
   ]
  },
  {
   "cell_type": "markdown",
   "metadata": {},
   "source": [
    "Il modello che si ottiene è simile a questo:\n",
    "\n",
    "![albero decisionale](tree.svg)\n",
    "\n",
    "Per classificare un esempio si parte dal nodo radice in alto, quindi in ogni nodo si verifica il valore della variabile indicata (ad es. `AccountStatus_NoAccount` nella radice) e si segue il ramo sinistro o destro a seconda che sia sotto o sopra la soglia indicata. Si prosegue fino a raggiungere un nodo foglia (quelli in basso), che indica la classe predetta. Le variabili che compaiono ai livelli superiori sono in genere quelle più d'aiuto nel distinguere gli esempi delle diverse classi.\n",
    "\n",
    "Per ottenere predizioni dal modello possiamo usare `predict` come per i modelli di regressione. Otteniamo ad esempio le predizioni relative ai primi 5 esempi del validation set."
   ]
  },
  {
   "cell_type": "code",
   "execution_count": 13,
   "metadata": {},
   "outputs": [
    {
     "data": {
      "text/plain": [
       "array(['Bad', 'Bad', 'Good', 'Bad', 'Bad'], dtype=object)"
      ]
     },
     "execution_count": 13,
     "metadata": {},
     "output_type": "execute_result"
    }
   ],
   "source": [
    "model.predict(X_val.head(5))"
   ]
  },
  {
   "cell_type": "markdown",
   "metadata": {},
   "source": [
    "I modelli di classificazione forniscono anche la funzione `predict_proba`, che indica le probabilità stimate dal modello per ciascuna classe, in caso sia necessario distinguere le predizioni più sicure da quelle più incerte."
   ]
  },
  {
   "cell_type": "code",
   "execution_count": 14,
   "metadata": {},
   "outputs": [
    {
     "data": {
      "text/html": [
       "<div>\n",
       "<style scoped>\n",
       "    .dataframe tbody tr th:only-of-type {\n",
       "        vertical-align: middle;\n",
       "    }\n",
       "\n",
       "    .dataframe tbody tr th {\n",
       "        vertical-align: top;\n",
       "    }\n",
       "\n",
       "    .dataframe thead th {\n",
       "        text-align: right;\n",
       "    }\n",
       "</style>\n",
       "<table border=\"1\" class=\"dataframe\">\n",
       "  <thead>\n",
       "    <tr style=\"text-align: right;\">\n",
       "      <th></th>\n",
       "      <th>Bad</th>\n",
       "      <th>Good</th>\n",
       "    </tr>\n",
       "  </thead>\n",
       "  <tbody>\n",
       "    <tr>\n",
       "      <th>0</th>\n",
       "      <td>1.000000</td>\n",
       "      <td>0.000000</td>\n",
       "    </tr>\n",
       "    <tr>\n",
       "      <th>1</th>\n",
       "      <td>1.000000</td>\n",
       "      <td>0.000000</td>\n",
       "    </tr>\n",
       "    <tr>\n",
       "      <th>2</th>\n",
       "      <td>0.000000</td>\n",
       "      <td>1.000000</td>\n",
       "    </tr>\n",
       "    <tr>\n",
       "      <th>3</th>\n",
       "      <td>0.983333</td>\n",
       "      <td>0.016667</td>\n",
       "    </tr>\n",
       "    <tr>\n",
       "      <th>4</th>\n",
       "      <td>0.983333</td>\n",
       "      <td>0.016667</td>\n",
       "    </tr>\n",
       "  </tbody>\n",
       "</table>\n",
       "</div>"
      ],
      "text/plain": [
       "        Bad      Good\n",
       "0  1.000000  0.000000\n",
       "1  1.000000  0.000000\n",
       "2  0.000000  1.000000\n",
       "3  0.983333  0.016667\n",
       "4  0.983333  0.016667"
      ]
     },
     "execution_count": 14,
     "metadata": {},
     "output_type": "execute_result"
    }
   ],
   "source": [
    "pd.DataFrame(model.predict_proba(X_val.head(5)), columns=model.classes_)"
   ]
  },
  {
   "cell_type": "markdown",
   "metadata": {},
   "source": [
    "Ad es. la predizione \"Bad\" sul primo esempio è data certa (100%), mentre sul terzo c'è una minima incertezza (98%).\n",
    "\n",
    "Per valutare l'accuratezza del modello anche in questo caso possiamo usare la funzione `score` passando i dati del validation set. Nel caso della classificazione, la metrica di accuratezza è la percentuale di casi del validation set che vengono classificati correttamente."
   ]
  },
  {
   "cell_type": "code",
   "execution_count": 15,
   "metadata": {},
   "outputs": [
    {
     "data": {
      "text/plain": [
       "0.6041666666666666"
      ]
     },
     "execution_count": 15,
     "metadata": {},
     "output_type": "execute_result"
    }
   ],
   "source": [
    "model.score(X_val, y_val)"
   ]
  },
  {
   "cell_type": "markdown",
   "metadata": {},
   "source": [
    "Significa che circa il 60% degli esempi è classificato correttamente.\n",
    "\n",
    "Un'indicazione più specifica sull'efficacia del modello può essere data dalla _matrice di confusione_, che indica il numero di esempi per ogni combinazione possibile di classe reale e classe predetta. Per estrarre tale matrice usiamo la funzione `confusion_matrix` passando la serie delle classi reali del validation `y_val` e quelle predette dal modello, ottenute tramite `predict`. L'ultima riga del codice sotto serve a visualizzare la matrice in modo comprensibile con righe e colonne etichettate."
   ]
  },
  {
   "cell_type": "code",
   "execution_count": 16,
   "metadata": {},
   "outputs": [
    {
     "data": {
      "text/html": [
       "<div>\n",
       "<style scoped>\n",
       "    .dataframe tbody tr th:only-of-type {\n",
       "        vertical-align: middle;\n",
       "    }\n",
       "\n",
       "    .dataframe tbody tr th {\n",
       "        vertical-align: top;\n",
       "    }\n",
       "\n",
       "    .dataframe thead th {\n",
       "        text-align: right;\n",
       "    }\n",
       "</style>\n",
       "<table border=\"1\" class=\"dataframe\">\n",
       "  <thead>\n",
       "    <tr style=\"text-align: right;\">\n",
       "      <th></th>\n",
       "      <th>Bad</th>\n",
       "      <th>Good</th>\n",
       "    </tr>\n",
       "  </thead>\n",
       "  <tbody>\n",
       "    <tr>\n",
       "      <th>Bad</th>\n",
       "      <td>47</td>\n",
       "      <td>33</td>\n",
       "    </tr>\n",
       "    <tr>\n",
       "      <th>Good</th>\n",
       "      <td>43</td>\n",
       "      <td>69</td>\n",
       "    </tr>\n",
       "  </tbody>\n",
       "</table>\n",
       "</div>"
      ],
      "text/plain": [
       "      Bad  Good\n",
       "Bad    47    33\n",
       "Good   43    69"
      ]
     },
     "execution_count": 16,
     "metadata": {},
     "output_type": "execute_result"
    }
   ],
   "source": [
    "from sklearn.metrics import confusion_matrix\n",
    "cm = confusion_matrix(y_val, model.predict(X_val), labels=model.classes_)\n",
    "pd.DataFrame(cm, index=model.classes_, columns=model.classes_)"
   ]
  },
  {
   "cell_type": "markdown",
   "metadata": {},
   "source": [
    "Questa matrice indica ad esempio che, delle 80 istanze \"Bad\" del validation set, 47 sono state effettivamente etichettate come \"Bad\" mentre 33 sono state erroneamente etichettate \"Good\". In pratica il modello ha erroneamente previsto come \"sicuri\" 33 clienti a rischio.\n",
    "\n",
    "Considerare la matrice di confusione invece della sola accuratezza è molto importante nel caso in cui gli errori abbiano costi differenti. Ad esempio una banca potrebbe perdere molti più soldi concedendo un prestito che non viene restituito piuttosto che non concedendone uno che verrebbe restituito, per cui può cercare di ottenere un modello che minimizzi gli errori del primo tipo considerando meno gravi gli altri.\n",
    "\n",
    "Addestriamo un altro modello diminuendo il parametro `max_depth`, quindi limitando ancora di più la profondità dell'albero."
   ]
  },
  {
   "cell_type": "code",
   "execution_count": 17,
   "metadata": {},
   "outputs": [
    {
     "data": {
      "text/plain": [
       "0.671875"
      ]
     },
     "execution_count": 17,
     "metadata": {},
     "output_type": "execute_result"
    }
   ],
   "source": [
    "model = DecisionTreeClassifier(max_depth=5, random_state=123)\n",
    "model.fit(X_train, y_train)\n",
    "model.score(X_val, y_val)"
   ]
  },
  {
   "cell_type": "code",
   "execution_count": 18,
   "metadata": {},
   "outputs": [
    {
     "data": {
      "text/html": [
       "<div>\n",
       "<style scoped>\n",
       "    .dataframe tbody tr th:only-of-type {\n",
       "        vertical-align: middle;\n",
       "    }\n",
       "\n",
       "    .dataframe tbody tr th {\n",
       "        vertical-align: top;\n",
       "    }\n",
       "\n",
       "    .dataframe thead th {\n",
       "        text-align: right;\n",
       "    }\n",
       "</style>\n",
       "<table border=\"1\" class=\"dataframe\">\n",
       "  <thead>\n",
       "    <tr style=\"text-align: right;\">\n",
       "      <th></th>\n",
       "      <th>Bad</th>\n",
       "      <th>Good</th>\n",
       "    </tr>\n",
       "  </thead>\n",
       "  <tbody>\n",
       "    <tr>\n",
       "      <th>Bad</th>\n",
       "      <td>53</td>\n",
       "      <td>27</td>\n",
       "    </tr>\n",
       "    <tr>\n",
       "      <th>Good</th>\n",
       "      <td>36</td>\n",
       "      <td>76</td>\n",
       "    </tr>\n",
       "  </tbody>\n",
       "</table>\n",
       "</div>"
      ],
      "text/plain": [
       "      Bad  Good\n",
       "Bad    53    27\n",
       "Good   36    76"
      ]
     },
     "execution_count": 18,
     "metadata": {},
     "output_type": "execute_result"
    }
   ],
   "source": [
    "cm = confusion_matrix(y_val, model.predict(X_val), labels=model.classes_)\n",
    "pd.DataFrame(cm, index=model.classes_, columns=model.classes_)"
   ]
  },
  {
   "cell_type": "markdown",
   "metadata": {},
   "source": [
    "Questo secondo albero decisionale compie meno errori del primo nonostante sia più semplice: può essere segno di _overfitting_ nel primo albero."
   ]
  },
  {
   "cell_type": "markdown",
   "metadata": {},
   "source": [
    "## Support Vector Machine\n",
    "\n",
    "Un altro esempio di modello di classificazione sono le _Support Vector Machine_ (SVM); tali modelli astraggono i dati come punti in uno spazio multidimensionale e cercano il piano che divide in modo più netto possibile i punti di una classe da quelli dell'altra. Come la regressione kernel ridge, SVM si basa su funzioni kernel per riuscire a separare classi anche in modo non lineare.\n",
    "\n",
    "La classe `SVC` implementa i modelli di classificazione tramite SVM (esistono anche modelli SVM per la regressione). Il funzionamento è simile agli altri..."
   ]
  },
  {
   "cell_type": "code",
   "execution_count": 19,
   "metadata": {},
   "outputs": [
    {
     "data": {
      "text/plain": [
       "0.5729166666666666"
      ]
     },
     "execution_count": 19,
     "metadata": {},
     "output_type": "execute_result"
    }
   ],
   "source": [
    "from sklearn.svm import SVC\n",
    "model = SVC(gamma=\"auto\")\n",
    "model.fit(X_train, y_train)\n",
    "model.score(X_val, y_val)"
   ]
  },
  {
   "cell_type": "markdown",
   "metadata": {},
   "source": [
    "Questo modello è meno accurato del precedente basato su albero decisionale, ma SVM è generalmente più efficace nella classificazione di testi, come vediamo di seguito."
   ]
  },
  {
   "cell_type": "markdown",
   "metadata": {},
   "source": [
    "## Esempio 4: classificazione di commenti positivi e negativi\n",
    "\n",
    "Vediamo ora come creare un modello che riconosca commenti positivi o negativi addestrandolo su recensioni già etichettate.\n",
    "\n",
    "Il file all'URL `https://git.io/vpaDt` contiene 10.000 recensioni di film estratte da Amazon, etichettate col numero di stelle dato dall'utente da 1 a 5."
   ]
  },
  {
   "cell_type": "code",
   "execution_count": 20,
   "metadata": {},
   "outputs": [],
   "source": [
    "reviews = pd.read_csv(\"https://git.io/vpaDt\", sep=\"\\t\", compression=\"gzip\")"
   ]
  },
  {
   "cell_type": "markdown",
   "metadata": {},
   "source": [
    "Vediamo alcune di queste recensioni. La prima riga serve ad aumentare il numero massimo di caratteri mostrato."
   ]
  },
  {
   "cell_type": "code",
   "execution_count": 21,
   "metadata": {},
   "outputs": [
    {
     "data": {
      "text/html": [
       "<div>\n",
       "<style scoped>\n",
       "    .dataframe tbody tr th:only-of-type {\n",
       "        vertical-align: middle;\n",
       "    }\n",
       "\n",
       "    .dataframe tbody tr th {\n",
       "        vertical-align: top;\n",
       "    }\n",
       "\n",
       "    .dataframe thead th {\n",
       "        text-align: right;\n",
       "    }\n",
       "</style>\n",
       "<table border=\"1\" class=\"dataframe\">\n",
       "  <thead>\n",
       "    <tr style=\"text-align: right;\">\n",
       "      <th></th>\n",
       "      <th>text</th>\n",
       "      <th>stars</th>\n",
       "    </tr>\n",
       "  </thead>\n",
       "  <tbody>\n",
       "    <tr>\n",
       "      <th>9994</th>\n",
       "      <td>Dudley Boyz VS Ric Flair and Batista: This match was rather short. Dudley's looked good but Coac...</td>\n",
       "      <td>4</td>\n",
       "    </tr>\n",
       "    <tr>\n",
       "      <th>9995</th>\n",
       "      <td>You seen one heist film, you seen them all. But every once in a while, somebody who really gives...</td>\n",
       "      <td>5</td>\n",
       "    </tr>\n",
       "    <tr>\n",
       "      <th>9996</th>\n",
       "      <td>Often compared with \"The Big Chill\", and getting numerous stars in many reviews, this film simpl...</td>\n",
       "      <td>1</td>\n",
       "    </tr>\n",
       "    <tr>\n",
       "      <th>9997</th>\n",
       "      <td>This collection of Laurel and Hardy films contains five total selections.  Four of these are sho...</td>\n",
       "      <td>3</td>\n",
       "    </tr>\n",
       "    <tr>\n",
       "      <th>9998</th>\n",
       "      <td>I love Vin Diesel but I wish I'd skipped this movie. The first bad sign was the fact that this t...</td>\n",
       "      <td>3</td>\n",
       "    </tr>\n",
       "    <tr>\n",
       "      <th>9999</th>\n",
       "      <td>When The Office was first shown to a UK audience back in 2001, it was shown on BBC2. That is the...</td>\n",
       "      <td>5</td>\n",
       "    </tr>\n",
       "  </tbody>\n",
       "</table>\n",
       "</div>"
      ],
      "text/plain": [
       "                                                                                                     text  \\\n",
       "9994  Dudley Boyz VS Ric Flair and Batista: This match was rather short. Dudley's looked good but Coac...   \n",
       "9995  You seen one heist film, you seen them all. But every once in a while, somebody who really gives...   \n",
       "9996  Often compared with \"The Big Chill\", and getting numerous stars in many reviews, this film simpl...   \n",
       "9997  This collection of Laurel and Hardy films contains five total selections.  Four of these are sho...   \n",
       "9998  I love Vin Diesel but I wish I'd skipped this movie. The first bad sign was the fact that this t...   \n",
       "9999  When The Office was first shown to a UK audience back in 2001, it was shown on BBC2. That is the...   \n",
       "\n",
       "      stars  \n",
       "9994      4  \n",
       "9995      5  \n",
       "9996      1  \n",
       "9997      3  \n",
       "9998      3  \n",
       "9999      5  "
      ]
     },
     "execution_count": 21,
     "metadata": {},
     "output_type": "execute_result"
    }
   ],
   "source": [
    "pd.options.display.max_colwidth = 100\n",
    "reviews.tail(6)"
   ]
  },
  {
   "cell_type": "markdown",
   "metadata": {},
   "source": [
    "Per dividere le recensioni in due classi, etichettiamo come \"positive\" quelle con 4 o 5 stelle e come \"negative\" le altre con 3 stelle o meno. Aggiungiamo alla tabella una colonna \"etichetta\" che valga \"pos\" o \"neg\" a seconda di questa condizione."
   ]
  },
  {
   "cell_type": "code",
   "execution_count": 22,
   "metadata": {},
   "outputs": [],
   "source": [
    "reviews[\"label\"] = pd.np.where(reviews[\"stars\"] >= 4, \"pos\", \"neg\")"
   ]
  },
  {
   "cell_type": "code",
   "execution_count": 23,
   "metadata": {},
   "outputs": [
    {
     "data": {
      "text/html": [
       "<div>\n",
       "<style scoped>\n",
       "    .dataframe tbody tr th:only-of-type {\n",
       "        vertical-align: middle;\n",
       "    }\n",
       "\n",
       "    .dataframe tbody tr th {\n",
       "        vertical-align: top;\n",
       "    }\n",
       "\n",
       "    .dataframe thead th {\n",
       "        text-align: right;\n",
       "    }\n",
       "</style>\n",
       "<table border=\"1\" class=\"dataframe\">\n",
       "  <thead>\n",
       "    <tr style=\"text-align: right;\">\n",
       "      <th></th>\n",
       "      <th>text</th>\n",
       "      <th>stars</th>\n",
       "      <th>label</th>\n",
       "    </tr>\n",
       "  </thead>\n",
       "  <tbody>\n",
       "    <tr>\n",
       "      <th>9994</th>\n",
       "      <td>Dudley Boyz VS Ric Flair and Batista: This match was rather short. Dudley's looked good but Coac...</td>\n",
       "      <td>4</td>\n",
       "      <td>pos</td>\n",
       "    </tr>\n",
       "    <tr>\n",
       "      <th>9995</th>\n",
       "      <td>You seen one heist film, you seen them all. But every once in a while, somebody who really gives...</td>\n",
       "      <td>5</td>\n",
       "      <td>pos</td>\n",
       "    </tr>\n",
       "    <tr>\n",
       "      <th>9996</th>\n",
       "      <td>Often compared with \"The Big Chill\", and getting numerous stars in many reviews, this film simpl...</td>\n",
       "      <td>1</td>\n",
       "      <td>neg</td>\n",
       "    </tr>\n",
       "    <tr>\n",
       "      <th>9997</th>\n",
       "      <td>This collection of Laurel and Hardy films contains five total selections.  Four of these are sho...</td>\n",
       "      <td>3</td>\n",
       "      <td>neg</td>\n",
       "    </tr>\n",
       "    <tr>\n",
       "      <th>9998</th>\n",
       "      <td>I love Vin Diesel but I wish I'd skipped this movie. The first bad sign was the fact that this t...</td>\n",
       "      <td>3</td>\n",
       "      <td>neg</td>\n",
       "    </tr>\n",
       "    <tr>\n",
       "      <th>9999</th>\n",
       "      <td>When The Office was first shown to a UK audience back in 2001, it was shown on BBC2. That is the...</td>\n",
       "      <td>5</td>\n",
       "      <td>pos</td>\n",
       "    </tr>\n",
       "  </tbody>\n",
       "</table>\n",
       "</div>"
      ],
      "text/plain": [
       "                                                                                                     text  \\\n",
       "9994  Dudley Boyz VS Ric Flair and Batista: This match was rather short. Dudley's looked good but Coac...   \n",
       "9995  You seen one heist film, you seen them all. But every once in a while, somebody who really gives...   \n",
       "9996  Often compared with \"The Big Chill\", and getting numerous stars in many reviews, this film simpl...   \n",
       "9997  This collection of Laurel and Hardy films contains five total selections.  Four of these are sho...   \n",
       "9998  I love Vin Diesel but I wish I'd skipped this movie. The first bad sign was the fact that this t...   \n",
       "9999  When The Office was first shown to a UK audience back in 2001, it was shown on BBC2. That is the...   \n",
       "\n",
       "      stars label  \n",
       "9994      4   pos  \n",
       "9995      5   pos  \n",
       "9996      1   neg  \n",
       "9997      3   neg  \n",
       "9998      3   neg  \n",
       "9999      5   pos  "
      ]
     },
     "execution_count": 23,
     "metadata": {},
     "output_type": "execute_result"
    }
   ],
   "source": [
    "reviews.tail(6)"
   ]
  },
  {
   "cell_type": "markdown",
   "metadata": {},
   "source": [
    "Vediamo la distribuzione tra recensioni positive e negative."
   ]
  },
  {
   "cell_type": "code",
   "execution_count": 24,
   "metadata": {},
   "outputs": [
    {
     "data": {
      "text/plain": [
       "pos    7328\n",
       "neg    2672\n",
       "Name: label, dtype: int64"
      ]
     },
     "execution_count": 24,
     "metadata": {},
     "output_type": "execute_result"
    }
   ],
   "source": [
    "reviews[\"label\"].value_counts()"
   ]
  },
  {
   "cell_type": "markdown",
   "metadata": {},
   "source": [
    "## Rappresentazione bag of words\n",
    "\n",
    "Per addestrare un modello ML su dei testi è necessario estrarre delle variabili da di essi. Per questo è possibile rappresentare ogni testo in forma di un _bag of words_, ovvero un insieme delle parole contenute in ciascun testo con associato il loro numero di occorrenze. In questo modo da ogni parola distinta (_termine_) presente nei testi è estratta una variabile su cui il modello può apprendere.\n",
    "\n",
    "scikit-learn fornisce la classe `CountVectorizer` per convertire ciascun testo di un insieme dato in un vettore di conteggi delle parole presenti.\n",
    "\n",
    "Per vedere come funziona, creiamo una breve lista di frasi d'esempio da processare."
   ]
  },
  {
   "cell_type": "code",
   "execution_count": 25,
   "metadata": {},
   "outputs": [],
   "source": [
    "examples = [\n",
    "    \"the sky is blue\",\n",
    "    \"sky is blue and sky is beautiful\",\n",
    "    \"the beautiful sky is so blue\",\n",
    "    \"i love blue cheese\"\n",
    "]"
   ]
  },
  {
   "cell_type": "markdown",
   "metadata": {},
   "source": [
    "Per convertire tali frasi in bag of words, creiamo prima un oggetto `CountVectorizer`."
   ]
  },
  {
   "cell_type": "code",
   "execution_count": 26,
   "metadata": {},
   "outputs": [],
   "source": [
    "from sklearn.feature_extraction.text import CountVectorizer\n",
    "vect = CountVectorizer()"
   ]
  },
  {
   "cell_type": "markdown",
   "metadata": {},
   "source": [
    "A questo punto passiamo la lista di frasi a tale oggetto usando la funzione `fit_transform`."
   ]
  },
  {
   "cell_type": "code",
   "execution_count": 27,
   "metadata": {},
   "outputs": [],
   "source": [
    "dtm = vect.fit_transform(examples)"
   ]
  },
  {
   "cell_type": "markdown",
   "metadata": {},
   "source": [
    "L'oggetto `dtm` ottenuto è una _matrice documenti-termini_, che contiene una riga per ogni documento e una colonna per ogni termine: ogni suo valore indica il numero di occorrenze di un termine in un documento. Visualizziamo tale matrice..."
   ]
  },
  {
   "cell_type": "code",
   "execution_count": 28,
   "metadata": {},
   "outputs": [
    {
     "data": {
      "text/html": [
       "<div>\n",
       "<style scoped>\n",
       "    .dataframe tbody tr th:only-of-type {\n",
       "        vertical-align: middle;\n",
       "    }\n",
       "\n",
       "    .dataframe tbody tr th {\n",
       "        vertical-align: top;\n",
       "    }\n",
       "\n",
       "    .dataframe thead th {\n",
       "        text-align: right;\n",
       "    }\n",
       "</style>\n",
       "<table border=\"1\" class=\"dataframe\">\n",
       "  <thead>\n",
       "    <tr style=\"text-align: right;\">\n",
       "      <th></th>\n",
       "      <th>and</th>\n",
       "      <th>beautiful</th>\n",
       "      <th>blue</th>\n",
       "      <th>cheese</th>\n",
       "      <th>is</th>\n",
       "      <th>love</th>\n",
       "      <th>sky</th>\n",
       "      <th>so</th>\n",
       "      <th>the</th>\n",
       "    </tr>\n",
       "  </thead>\n",
       "  <tbody>\n",
       "    <tr>\n",
       "      <th>0</th>\n",
       "      <td>0</td>\n",
       "      <td>0</td>\n",
       "      <td>1</td>\n",
       "      <td>0</td>\n",
       "      <td>1</td>\n",
       "      <td>0</td>\n",
       "      <td>1</td>\n",
       "      <td>0</td>\n",
       "      <td>1</td>\n",
       "    </tr>\n",
       "    <tr>\n",
       "      <th>1</th>\n",
       "      <td>1</td>\n",
       "      <td>1</td>\n",
       "      <td>1</td>\n",
       "      <td>0</td>\n",
       "      <td>2</td>\n",
       "      <td>0</td>\n",
       "      <td>2</td>\n",
       "      <td>0</td>\n",
       "      <td>0</td>\n",
       "    </tr>\n",
       "    <tr>\n",
       "      <th>2</th>\n",
       "      <td>0</td>\n",
       "      <td>1</td>\n",
       "      <td>1</td>\n",
       "      <td>0</td>\n",
       "      <td>1</td>\n",
       "      <td>0</td>\n",
       "      <td>1</td>\n",
       "      <td>1</td>\n",
       "      <td>1</td>\n",
       "    </tr>\n",
       "    <tr>\n",
       "      <th>3</th>\n",
       "      <td>0</td>\n",
       "      <td>0</td>\n",
       "      <td>1</td>\n",
       "      <td>1</td>\n",
       "      <td>0</td>\n",
       "      <td>1</td>\n",
       "      <td>0</td>\n",
       "      <td>0</td>\n",
       "      <td>0</td>\n",
       "    </tr>\n",
       "  </tbody>\n",
       "</table>\n",
       "</div>"
      ],
      "text/plain": [
       "   and  beautiful  blue  cheese  is  love  sky  so  the\n",
       "0    0          0     1       0   1     0    1   0    1\n",
       "1    1          1     1       0   2     0    2   0    0\n",
       "2    0          1     1       0   1     0    1   1    1\n",
       "3    0          0     1       1   0     1    0   0    0"
      ]
     },
     "execution_count": 28,
     "metadata": {},
     "output_type": "execute_result"
    }
   ],
   "source": [
    "pd.DataFrame(dtm.toarray(), columns=vect.get_feature_names())"
   ]
  },
  {
   "cell_type": "markdown",
   "metadata": {},
   "source": [
    "La matrice indica ad esempio che la seconda frase (\"sky is blue and sky is beautiful\") contiene tra le altre la parola \"sky\" 2 volte e la parola \"blue\" 1 volta. I termini utilizzati come variabili sono tutti quelli presenti nei testi passati alla funzione `fit_transform`. Data una nuova frase d'esempio..."
   ]
  },
  {
   "cell_type": "code",
   "execution_count": 29,
   "metadata": {},
   "outputs": [],
   "source": [
    "new_example = \"loving this blue sky today\""
   ]
  },
  {
   "cell_type": "markdown",
   "metadata": {},
   "source": [
    "...è possibile usare la funzione `transform` per estrarne il bag of words mantenendo inalterato il set di variabili."
   ]
  },
  {
   "cell_type": "code",
   "execution_count": 30,
   "metadata": {},
   "outputs": [
    {
     "data": {
      "text/html": [
       "<div>\n",
       "<style scoped>\n",
       "    .dataframe tbody tr th:only-of-type {\n",
       "        vertical-align: middle;\n",
       "    }\n",
       "\n",
       "    .dataframe tbody tr th {\n",
       "        vertical-align: top;\n",
       "    }\n",
       "\n",
       "    .dataframe thead th {\n",
       "        text-align: right;\n",
       "    }\n",
       "</style>\n",
       "<table border=\"1\" class=\"dataframe\">\n",
       "  <thead>\n",
       "    <tr style=\"text-align: right;\">\n",
       "      <th></th>\n",
       "      <th>and</th>\n",
       "      <th>beautiful</th>\n",
       "      <th>blue</th>\n",
       "      <th>cheese</th>\n",
       "      <th>is</th>\n",
       "      <th>love</th>\n",
       "      <th>sky</th>\n",
       "      <th>so</th>\n",
       "      <th>the</th>\n",
       "    </tr>\n",
       "  </thead>\n",
       "  <tbody>\n",
       "    <tr>\n",
       "      <th>0</th>\n",
       "      <td>0</td>\n",
       "      <td>0</td>\n",
       "      <td>1</td>\n",
       "      <td>0</td>\n",
       "      <td>0</td>\n",
       "      <td>0</td>\n",
       "      <td>1</td>\n",
       "      <td>0</td>\n",
       "      <td>0</td>\n",
       "    </tr>\n",
       "  </tbody>\n",
       "</table>\n",
       "</div>"
      ],
      "text/plain": [
       "   and  beautiful  blue  cheese  is  love  sky  so  the\n",
       "0    0          0     1       0   0     0    1   0    0"
      ]
     },
     "execution_count": 30,
     "metadata": {},
     "output_type": "execute_result"
    }
   ],
   "source": [
    "pd.DataFrame(vect.transform([new_example]).toarray(), columns=vect.get_feature_names())"
   ]
  },
  {
   "cell_type": "markdown",
   "metadata": {},
   "source": [
    "Si noti che alcune parole della nuova frase (es. \"loving\") vengono \"perse\", in quanto non inizialmente previste tra le variabili. Quando si addestra un modello ML vanno fissate le variabili da utilizzare, per cui qualsiasi termine non presente nei testi usati per addestrare il modello sarà ignorato se trovato nei testi da classificare in seguito.\n",
    "\n",
    "Applichiamo ora `CountVectorizer` ai dati effettivi. Per iniziare dividiamo come al solito i dati a disposizione in training e validation set, individuando come variabile X il testo della recensione e come y l'etichetta \"pos\" o \"neg\"."
   ]
  },
  {
   "cell_type": "code",
   "execution_count": 31,
   "metadata": {},
   "outputs": [],
   "source": [
    "X_train, X_val, y_train, y_val = \\\n",
    "    train_test_split(reviews[\"text\"], reviews[\"label\"], test_size=0.3, random_state=42)"
   ]
  },
  {
   "cell_type": "markdown",
   "metadata": {},
   "source": [
    "Creiamo ora un nuovo oggetto `CountVectorizer` per questi dati."
   ]
  },
  {
   "cell_type": "code",
   "execution_count": 32,
   "metadata": {},
   "outputs": [],
   "source": [
    "vect = CountVectorizer()"
   ]
  },
  {
   "cell_type": "markdown",
   "metadata": {},
   "source": [
    "Applichiamo prima `fit_transform` ai testi del training set: questo determinerà quali termini saranno usati come variabili e ci restituirà i bag of words delle recensioni di training."
   ]
  },
  {
   "cell_type": "code",
   "execution_count": 33,
   "metadata": {},
   "outputs": [],
   "source": [
    "dtm_train = vect.fit_transform(X_train)"
   ]
  },
  {
   "cell_type": "markdown",
   "metadata": {},
   "source": [
    "Quindi applichiamo `transform` ai testi del validation set: i bag of words di questi saranno basati sulle sole parole viste nel training set, in modo che siano compatibili col modello."
   ]
  },
  {
   "cell_type": "code",
   "execution_count": 34,
   "metadata": {},
   "outputs": [],
   "source": [
    "dtm_val = vect.transform(X_val)"
   ]
  },
  {
   "cell_type": "markdown",
   "metadata": {},
   "source": [
    "## Addestramento modelli\n",
    "\n",
    "Possiamo ora addestrare un modello di classificazione basato sui bag of words utilizzando gli stessi algoritmi visti sopra. Generiamo ad esempio un albero decisionale."
   ]
  },
  {
   "cell_type": "code",
   "execution_count": 35,
   "metadata": {},
   "outputs": [],
   "source": [
    "model = DecisionTreeClassifier(random_state=123)"
   ]
  },
  {
   "cell_type": "markdown",
   "metadata": {},
   "source": [
    "L'albero verrà quindi addestrato sui bag of words delle recensioni del training set e sulle relative etichette \"pos\"/\"neg\"."
   ]
  },
  {
   "cell_type": "code",
   "execution_count": 36,
   "metadata": {},
   "outputs": [
    {
     "data": {
      "text/plain": [
       "DecisionTreeClassifier(class_weight=None, criterion='gini', max_depth=None,\n",
       "            max_features=None, max_leaf_nodes=None,\n",
       "            min_impurity_decrease=0.0, min_impurity_split=None,\n",
       "            min_samples_leaf=1, min_samples_split=2,\n",
       "            min_weight_fraction_leaf=0.0, presort=False, random_state=123,\n",
       "            splitter='best')"
      ]
     },
     "execution_count": 36,
     "metadata": {},
     "output_type": "execute_result"
    }
   ],
   "source": [
    "model.fit(dtm_train, y_train)"
   ]
  },
  {
   "cell_type": "markdown",
   "metadata": {},
   "source": [
    "A questo punto, dato un generico commento da classificare..."
   ]
  },
  {
   "cell_type": "code",
   "execution_count": 37,
   "metadata": {},
   "outputs": [],
   "source": [
    "my_comment = \"A really wonderful movie!\""
   ]
  },
  {
   "cell_type": "markdown",
   "metadata": {},
   "source": [
    "...possiamo convertirlo in bag of words..."
   ]
  },
  {
   "cell_type": "code",
   "execution_count": 38,
   "metadata": {},
   "outputs": [],
   "source": [
    "my_comment_bag = vect.transform([my_comment])"
   ]
  },
  {
   "cell_type": "markdown",
   "metadata": {},
   "source": [
    "...per passarlo al modello e ottenere l'orientamento stimato."
   ]
  },
  {
   "cell_type": "code",
   "execution_count": 39,
   "metadata": {},
   "outputs": [
    {
     "data": {
      "text/plain": [
       "array(['pos'], dtype=object)"
      ]
     },
     "execution_count": 39,
     "metadata": {},
     "output_type": "execute_result"
    }
   ],
   "source": [
    "model.predict(my_comment_bag)"
   ]
  },
  {
   "cell_type": "markdown",
   "metadata": {},
   "source": [
    "Come visto sopra, possiamo anche ottenere le probabilità delle due classi."
   ]
  },
  {
   "cell_type": "code",
   "execution_count": 40,
   "metadata": {},
   "outputs": [
    {
     "data": {
      "text/plain": [
       "array([[0., 1.]])"
      ]
     },
     "execution_count": 40,
     "metadata": {},
     "output_type": "execute_result"
    }
   ],
   "source": [
    "model.predict_proba(my_comment_bag)"
   ]
  },
  {
   "cell_type": "markdown",
   "metadata": {},
   "source": [
    "Il modello è quindi sicuro al 100% che il commento sia positivo.\n",
    "\n",
    "Come al solito, possiamo effettuare il calcolo dell'accuratezza sul validation set."
   ]
  },
  {
   "cell_type": "code",
   "execution_count": 41,
   "metadata": {},
   "outputs": [
    {
     "data": {
      "text/plain": [
       "0.7003333333333334"
      ]
     },
     "execution_count": 41,
     "metadata": {},
     "output_type": "execute_result"
    }
   ],
   "source": [
    "model.score(dtm_val, y_val)"
   ]
  },
  {
   "cell_type": "markdown",
   "metadata": {},
   "source": [
    "Il modello etichetta correttamente circa il 70% delle recensioni di validazione.\n",
    "\n",
    "Testiamo ora invece un modello SVM."
   ]
  },
  {
   "cell_type": "code",
   "execution_count": 42,
   "metadata": {},
   "outputs": [
    {
     "data": {
      "text/plain": [
       "0.7313333333333333"
      ]
     },
     "execution_count": 42,
     "metadata": {},
     "output_type": "execute_result"
    }
   ],
   "source": [
    "model = SVC(gamma=\"auto\")\n",
    "model.fit(dtm_train, y_train)\n",
    "model.score(dtm_val, y_val)"
   ]
  },
  {
   "cell_type": "markdown",
   "metadata": {},
   "source": [
    "Abbiamo ottenuto un leggero incremento dell'accuratezza.\n",
    "\n",
    "## Riduzione del numero di variabili\n",
    "\n",
    "L'addestramento di modelli sui bag of words delle recensioni ha richiesto molto più tempo rispetto a quello per addestrare modelli simili su dati strutturati. Questo è dovuto all'elevato numero di variabili usate per rappresentare le recensioni. Per vedere tale numero, vediamo quanti termini distinti vengono riconosciuti dall'oggetto `vect`."
   ]
  },
  {
   "cell_type": "code",
   "execution_count": 43,
   "metadata": {},
   "outputs": [
    {
     "data": {
      "text/plain": [
       "51772"
      ]
     },
     "execution_count": 43,
     "metadata": {},
     "output_type": "execute_result"
    }
   ],
   "source": [
    "len(vect.get_feature_names())"
   ]
  },
  {
   "cell_type": "markdown",
   "metadata": {},
   "source": [
    "È possibile ridurre questo numero di variabili - e di conseguenza il tempo necessario per l'addestramento - senza un crollo nell'accuratezza del modello?\n",
    "\n",
    "`CountVectorizer` accetta diverse opzioni per cambiare l'insieme di variabili. Una di queste è `min_df`, che fa sì che le parole che appaiono in un numero di testi inferiore alla soglia data sia scartata.\n",
    "\n",
    "Ripetiamo ad esempio il processo di generazione dei bag of words e addestramento modello selezionando solo le parole che appaiono in almeno 3 recensioni: creiamo un nuovo `CountVectorizer` opportunamente configurato."
   ]
  },
  {
   "cell_type": "code",
   "execution_count": 44,
   "metadata": {},
   "outputs": [],
   "source": [
    "vect = CountVectorizer(min_df=3)"
   ]
  },
  {
   "cell_type": "markdown",
   "metadata": {},
   "source": [
    "Processiamo i testi di training e validation set."
   ]
  },
  {
   "cell_type": "code",
   "execution_count": 45,
   "metadata": {},
   "outputs": [],
   "source": [
    "dtm_train = vect.fit_transform(X_train)\n",
    "dtm_val = vect.transform(X_val)"
   ]
  },
  {
   "cell_type": "markdown",
   "metadata": {},
   "source": [
    "Il numero di variabili considerate questa volta è..."
   ]
  },
  {
   "cell_type": "code",
   "execution_count": 46,
   "metadata": {},
   "outputs": [
    {
     "data": {
      "text/plain": [
       "21063"
      ]
     },
     "execution_count": 46,
     "metadata": {},
     "output_type": "execute_result"
    }
   ],
   "source": [
    "len(vect.get_feature_names())"
   ]
  },
  {
   "cell_type": "markdown",
   "metadata": {},
   "source": [
    "Addestriamo e valutiamo un nuovo modello basato su questo insieme più ristretto di variabili."
   ]
  },
  {
   "cell_type": "code",
   "execution_count": 47,
   "metadata": {},
   "outputs": [
    {
     "data": {
      "text/plain": [
       "0.7313333333333333"
      ]
     },
     "execution_count": 47,
     "metadata": {},
     "output_type": "execute_result"
    }
   ],
   "source": [
    "model = SVC(gamma=\"auto\")\n",
    "model.fit(dtm_train, y_train)\n",
    "model.score(dtm_val, y_val)"
   ]
  },
  {
   "cell_type": "markdown",
   "metadata": {},
   "source": [
    "L'accuratezza è rimasta invariata nonostante il numero di variabili si sia più che dimezzato.\n",
    "\n",
    "Un altro accorgimento per ridurre le variabili è la rimozione delle _stopword_, ovvero parole come articoli e congiunzioni (\"e\", \"ma\", \"il\", ...) che prese da sole in genere non forniscono alcuna informazione sul contenuto del testo. scikit-learn include una lista di stopword inglesi, si può impostare `CountVectorizer` in modo che le rimuova con l'opzione `stop_words=\"english\"`."
   ]
  },
  {
   "cell_type": "code",
   "execution_count": 48,
   "metadata": {},
   "outputs": [
    {
     "data": {
      "text/plain": [
       "20757"
      ]
     },
     "execution_count": 48,
     "metadata": {},
     "output_type": "execute_result"
    }
   ],
   "source": [
    "vect = CountVectorizer(min_df=3, stop_words=\"english\")\n",
    "dtm_train = vect.fit_transform(X_train)\n",
    "dtm_val = vect.transform(X_val)\n",
    "len(vect.get_feature_names())"
   ]
  },
  {
   "cell_type": "code",
   "execution_count": 49,
   "metadata": {},
   "outputs": [
    {
     "data": {
      "text/plain": [
       "0.7313333333333333"
      ]
     },
     "execution_count": 49,
     "metadata": {},
     "output_type": "execute_result"
    }
   ],
   "source": [
    "model = SVC(gamma=\"auto\")\n",
    "model.fit(dtm_train, y_train)\n",
    "model.score(dtm_val, y_val)"
   ]
  },
  {
   "cell_type": "markdown",
   "metadata": {},
   "source": [
    "Anche la rimozione delle stopword ha ridotto il numero di feature senza far calare l'accuratezza.\n",
    "\n",
    "Esistono molte altre tecniche per rendere la classificazione di testi più accurata e/o più efficiente, tra cui l'uso del _tf.idf_ per valutare meglio l'importanza delle parole nei testi e dello _stemming_ per raggruppare in uno stesso termine parole con la stessa radice morfologica."
   ]
  },
  {
   "cell_type": "markdown",
   "metadata": {},
   "source": [
    "## Esercizi suggeriti\n",
    "\n",
    "- Testare diverse combinazioni di parametri di `CountVectorizer` con diversi modelli di classificazione\n",
    "- Testare i modelli con frasi specifiche cercando di capire in quali casi sbagliano: ad esempio, non considerando l'ordine delle parole, è plausibile che singole frasi con negazioni come \"not a bad movie\" non vengano comprese"
   ]
  }
 ],
 "metadata": {
  "kernelspec": {
   "display_name": "IFTS",
   "language": "python",
   "name": "ifts"
  },
  "language_info": {
   "codemirror_mode": {
    "name": "ipython",
    "version": 3
   },
   "file_extension": ".py",
   "mimetype": "text/x-python",
   "name": "python",
   "nbconvert_exporter": "python",
   "pygments_lexer": "ipython3",
   "version": "3.5.2"
  }
 },
 "nbformat": 4,
 "nbformat_minor": 2
}
