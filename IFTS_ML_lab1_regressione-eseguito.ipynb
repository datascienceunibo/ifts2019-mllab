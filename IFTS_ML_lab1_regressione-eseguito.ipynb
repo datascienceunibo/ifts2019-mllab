{
 "cells": [
  {
   "cell_type": "markdown",
   "metadata": {},
   "source": [
    "**IFTS** TECNICO DEL DISEGNO E PROGETTAZIONE INDUSTRIALE SPECIALIZZATO IN SMART MANUFACTURING (2019)  \n",
    "**INDUSTRIA 4.0 - Tecnologie Informatiche di Riferimento**\n",
    "\n",
    "# Machine Learning\n",
    "\n",
    "## Esercitazione 1: Regressione\n",
    "\n",
    "Gianluca Moro, **Roberto Pasolini**  \n",
    "DISI - Dipartimento di Informatica - Scienza e Ingegneria  \n",
    "Università di Bologna  \n",
    "nome.cognome@unibo.it"
   ]
  },
  {
   "cell_type": "markdown",
   "metadata": {},
   "source": [
    "## Introduzione all'ambiente di lavoro\n",
    "\n",
    "Questo è un documento Jupyter. Al suo interno trovate delle celle contenenti codice Python che potete eseguire, il risultato verrà riportato sotto alla cella stessa. Potete aggiungere e modificare le celle liberamente per svolgere gli esercizi proposti e testare delle variazioni rispetto al codice fornito.\n",
    "\n",
    "Questo è un esempio di cella di codice:"
   ]
  },
  {
   "cell_type": "code",
   "execution_count": 1,
   "metadata": {},
   "outputs": [
    {
     "data": {
      "text/plain": [
       "42"
      ]
     },
     "execution_count": 1,
     "metadata": {},
     "output_type": "execute_result"
    }
   ],
   "source": [
    "20 + 20 + 2"
   ]
  },
  {
   "cell_type": "markdown",
   "metadata": {},
   "source": [
    "Cliccate su di essa e premete **Maiusc + Invio** (oppure cliccate sul pulsante col simbolo \"Play\") per eseguirla: il risultato dell'espressione comparirà sotto di essa. Potete modificare il codice e rieseguire la cella quante volte volete.\n",
    "\n",
    "Per inserire una nuova cella di codice sotto a quella selezionata, cliccate sul pulsante \"+\" in alto (oppure premete **B** mentre non state immettendo testo nella cella)"
   ]
  },
  {
   "cell_type": "markdown",
   "metadata": {},
   "source": [
    "## Esempio 1: predizione del consumo di elettricità\n",
    "\n",
    "Iniziamo col problema della stima del picco giornaliero di consumo di elettricità in una zona a partire dalla temperatura, di cui si suppone avere una predizione accurata il giorno prima. I passaggi principali che vedremo saranno:\n",
    "\n",
    "1. caricamento del set di dati\n",
    "2. selezione dei dati di interesse\n",
    "3. costruzione di un modello di regressione\n",
    "4. valutazione del modello"
   ]
  },
  {
   "cell_type": "markdown",
   "metadata": {},
   "source": [
    "## Caricamento dei dati\n",
    "\n",
    "Per l'esercitazione utilizziamo dati disponibili pubblicamente sul Web, nello specifico:\n",
    "- i dati sui consumi di corrente nell'area di Pittsburgh (USA) rilasciati dalla compagnia elettrica: https://dataminer2.pjm.com/feed/hrl_load_metered/definition\n",
    "- i dati sulle temperature medie giornaliere nella stessa area: https://shawxiaozhang.github.io/wefacts/\n",
    "\n",
    "Abbiamo raccolto questi dati in un unico file CSV (_Comma Separated Values_), un formato standard di scambio dati. Ogni riga del file contiene una data, la temperatura media alla data stessa e il picco di consumo registrato.\n",
    "\n",
    "Per caricare i dati usiamo **pandas**, la libreria Python più usata per rappresentare e processare dati in forma tabulare. Iniziamo quindi caricando questa libreria."
   ]
  },
  {
   "cell_type": "code",
   "execution_count": 2,
   "metadata": {},
   "outputs": [],
   "source": [
    "import pandas as pd"
   ]
  },
  {
   "cell_type": "markdown",
   "metadata": {},
   "source": [
    "`pd` è il nome breve usato convenzionalmente per riferirsi a pandas.\n",
    "\n",
    "Il file CSV con i dati è disponibile all'URL `https://git.io/vpaM1`. Tramite la funzione `read_csv` di pandas possiamo caricare il file direttamente in memoria senza scaricarlo su disco. Nella funzione specifichiamo l'URL del file usiamo l'opzione `parse_dates` per specificare che i valori della colonna `date` sono da interpretare come date."
   ]
  },
  {
   "cell_type": "code",
   "execution_count": 3,
   "metadata": {},
   "outputs": [],
   "source": [
    "data = pd.read_csv(\"https://git.io/vpaM1\", parse_dates=[\"date\"])"
   ]
  },
  {
   "cell_type": "markdown",
   "metadata": {},
   "source": [
    "pandas fornisce anche funzioni per caricare dati da file Excel, database SQL e altre fonti varie.\n",
    "\n",
    "`data` è il nome assegnato alla tabella che useremo per riferirci ad essa. Possiamo ad esempio consultarne l'attributo `shape` che ci indica il numero di righe e di colonne."
   ]
  },
  {
   "cell_type": "code",
   "execution_count": 4,
   "metadata": {},
   "outputs": [
    {
     "data": {
      "text/plain": [
       "(1096, 3)"
      ]
     },
     "execution_count": 4,
     "metadata": {},
     "output_type": "execute_result"
    }
   ],
   "source": [
    "data.shape"
   ]
  },
  {
   "cell_type": "markdown",
   "metadata": {},
   "source": [
    "Con la funzione `head` possiamo invece estrarre le prime N righe contenute nella tabella e visualizzarle."
   ]
  },
  {
   "cell_type": "code",
   "execution_count": 5,
   "metadata": {},
   "outputs": [
    {
     "data": {
      "text/html": [
       "<div>\n",
       "<style scoped>\n",
       "    .dataframe tbody tr th:only-of-type {\n",
       "        vertical-align: middle;\n",
       "    }\n",
       "\n",
       "    .dataframe tbody tr th {\n",
       "        vertical-align: top;\n",
       "    }\n",
       "\n",
       "    .dataframe thead th {\n",
       "        text-align: right;\n",
       "    }\n",
       "</style>\n",
       "<table border=\"1\" class=\"dataframe\">\n",
       "  <thead>\n",
       "    <tr style=\"text-align: right;\">\n",
       "      <th></th>\n",
       "      <th>date</th>\n",
       "      <th>demand</th>\n",
       "      <th>temp</th>\n",
       "    </tr>\n",
       "  </thead>\n",
       "  <tbody>\n",
       "    <tr>\n",
       "      <th>0</th>\n",
       "      <td>2015-01-01</td>\n",
       "      <td>1.736065</td>\n",
       "      <td>1.7</td>\n",
       "    </tr>\n",
       "    <tr>\n",
       "      <th>1</th>\n",
       "      <td>2015-01-02</td>\n",
       "      <td>1.831672</td>\n",
       "      <td>2.2</td>\n",
       "    </tr>\n",
       "    <tr>\n",
       "      <th>2</th>\n",
       "      <td>2015-01-03</td>\n",
       "      <td>1.714934</td>\n",
       "      <td>14.4</td>\n",
       "    </tr>\n",
       "    <tr>\n",
       "      <th>3</th>\n",
       "      <td>2015-01-04</td>\n",
       "      <td>1.628577</td>\n",
       "      <td>15.6</td>\n",
       "    </tr>\n",
       "    <tr>\n",
       "      <th>4</th>\n",
       "      <td>2015-01-05</td>\n",
       "      <td>2.045394</td>\n",
       "      <td>0.0</td>\n",
       "    </tr>\n",
       "  </tbody>\n",
       "</table>\n",
       "</div>"
      ],
      "text/plain": [
       "        date    demand  temp\n",
       "0 2015-01-01  1.736065   1.7\n",
       "1 2015-01-02  1.831672   2.2\n",
       "2 2015-01-03  1.714934  14.4\n",
       "3 2015-01-04  1.628577  15.6\n",
       "4 2015-01-05  2.045394   0.0"
      ]
     },
     "execution_count": 5,
     "metadata": {},
     "output_type": "execute_result"
    }
   ],
   "source": [
    "data.head(5)"
   ]
  },
  {
   "cell_type": "markdown",
   "metadata": {},
   "source": [
    "La tabella presenta tre colonne:\n",
    "- `date`: data\n",
    "- `demand`: picco di consumo (in GW) registrato in quella data\n",
    "- `temp`: temperatura media (in °C) registrata in quella data"
   ]
  },
  {
   "cell_type": "markdown",
   "metadata": {},
   "source": [
    "## Visualizzazione dei dati\n",
    "\n",
    "Una volta compresa la struttura della tabella, è utile esplorare i dati contenuti al suo interno: un modo per farlo è generare dei grafici che mostrino la distribuzione dei valori nelle varie colonne.\n",
    "\n",
    "pandas fornisce funzioni per generare facilmente grafici tramite **matplotlib**, la libreria Python usata più comunemente per questo scopo.\n",
    "\n",
    "Prima di procedere, eseguiamo il seguente comando per assicurarci che i grafici generati da matplotlib siano integrati direttamente nel documento Jupyter."
   ]
  },
  {
   "cell_type": "code",
   "execution_count": 6,
   "metadata": {},
   "outputs": [],
   "source": [
    "%matplotlib inline"
   ]
  },
  {
   "cell_type": "markdown",
   "metadata": {},
   "source": [
    "Per avere una prima verifica \"visiva\" della correlazione tra temperatura e consumi possiamo generare un _grafico a dispersione_ (_scatter plot_): per ogni giorno viene visualizzato un punto su un piano la cui coordinata X indica una variabile (la temperatura) e la cui coordinata Y indica l'altra (il consumo).\n",
    "\n",
    "pandas fornisce una funzione per generare facilmente un grafico a dispersione, specificando i nomi delle colonne da utilizzare come valori per le X e per le Y."
   ]
  },
  {
   "cell_type": "code",
   "execution_count": 7,
   "metadata": {},
   "outputs": [
    {
     "data": {
      "text/plain": [
       "<matplotlib.axes._subplots.AxesSubplot at 0x7fcb4aa47ac8>"
      ]
     },
     "execution_count": 7,
     "metadata": {},
     "output_type": "execute_result"
    },
    {
     "data": {
      "image/png": "[encoded data removed]",
      "text/plain": [
       "<Figure size 432x288 with 1 Axes>"
      ]
     },
     "metadata": {
      "needs_background": "light"
     },
     "output_type": "display_data"
    }
   ],
   "source": [
    "data.plot.scatter(\"temp\", \"demand\")"
   ]
  },
  {
   "cell_type": "markdown",
   "metadata": {},
   "source": [
    "Possiamo anche personalizzare il grafico: ad es. cambiamo colore e dimensione dei punti, mostriamo una griglia, aggiungiamo un titolo e cambiamo le etichette degli assi."
   ]
  },
  {
   "cell_type": "code",
   "execution_count": 8,
   "metadata": {},
   "outputs": [
    {
     "data": {
      "text/plain": [
       "[Text(0, 0.5, 'Picco consumo (GW)'),\n",
       " Text(0.5, 0, 'Temperatura (°C)'),\n",
       " Text(0.5, 1.0, 'Correlazione tra consumi elettrici e temperatura')]"
      ]
     },
     "execution_count": 8,
     "metadata": {},
     "output_type": "execute_result"
    },
    {
     "data": {
      "image/png": "[encoded data removed]",
      "text/plain": [
       "<Figure size 432x288 with 1 Axes>"
      ]
     },
     "metadata": {
      "needs_background": "light"
     },
     "output_type": "display_data"
    }
   ],
   "source": [
    "data.plot.scatter(\"temp\", \"demand\", c=\"green\", s=2, grid=True).set(\n",
    "    title=\"Correlazione tra consumi elettrici e temperatura\",\n",
    "    xlabel=\"Temperatura (°C)\",\n",
    "    ylabel=\"Picco consumo (GW)\"\n",
    ")"
   ]
  },
  {
   "cell_type": "markdown",
   "metadata": {},
   "source": [
    "## Selezione dei dati\n",
    "\n",
    "Un'operazione fondamentale che ci consente di fare pandas è di selezionare un sottoinsieme di righe dalla tabella secondo un criterio specifico.\n",
    "\n",
    "Ad esempio, per limitare l'analisi ai mesi caldi, selezioniamo solamente le righe relative ai mesi di giugno, luglio e agosto.\n",
    "\n",
    "Per prima cosa definiamo l'insieme di righe da selezionare tramite la seguente istruzione:"
   ]
  },
  {
   "cell_type": "code",
   "execution_count": 9,
   "metadata": {},
   "outputs": [],
   "source": [
    "summer_days = data[\"date\"].dt.month.between(6, 8)"
   ]
  },
  {
   "cell_type": "markdown",
   "metadata": {},
   "source": [
    "- `data[\"date\"]` seleziona dalla tabella la sola colonna delle date\n",
    "- `.dt.month` estrae a sua volta solamente il mese di ogni data, in forma di numero da 1 (gennaio) a 12 (dicembre)\n",
    "- `.between(6, 8)` esprime la condizione che il valore sia compreso tra 6 (giugno) e 8 (agosto)\n",
    "\n",
    "`summer_days` contiene una serie di valori vero/falso (\"booleani\") che indicano quali righe soddisfano la condizione e quali no: con la seguente istruzione selezioniamo dalla tabella `data` solamente le righe a cui corrisponde \"vero\":"
   ]
  },
  {
   "cell_type": "code",
   "execution_count": 10,
   "metadata": {},
   "outputs": [],
   "source": [
    "data_summer = data.loc[summer_days]"
   ]
  },
  {
   "cell_type": "markdown",
   "metadata": {},
   "source": [
    "Abbiamo quindi ora una tabella `data_summer` contenente solamente le righe di `data` relative ai mesi estivi: possiamo visualizzarne le prime righe..."
   ]
  },
  {
   "cell_type": "code",
   "execution_count": 11,
   "metadata": {},
   "outputs": [
    {
     "data": {
      "text/html": [
       "<div>\n",
       "<style scoped>\n",
       "    .dataframe tbody tr th:only-of-type {\n",
       "        vertical-align: middle;\n",
       "    }\n",
       "\n",
       "    .dataframe tbody tr th {\n",
       "        vertical-align: top;\n",
       "    }\n",
       "\n",
       "    .dataframe thead th {\n",
       "        text-align: right;\n",
       "    }\n",
       "</style>\n",
       "<table border=\"1\" class=\"dataframe\">\n",
       "  <thead>\n",
       "    <tr style=\"text-align: right;\">\n",
       "      <th></th>\n",
       "      <th>date</th>\n",
       "      <th>demand</th>\n",
       "      <th>temp</th>\n",
       "    </tr>\n",
       "  </thead>\n",
       "  <tbody>\n",
       "    <tr>\n",
       "      <th>151</th>\n",
       "      <td>2015-06-01</td>\n",
       "      <td>1.640036</td>\n",
       "      <td>15.6</td>\n",
       "    </tr>\n",
       "    <tr>\n",
       "      <th>152</th>\n",
       "      <td>2015-06-02</td>\n",
       "      <td>1.663211</td>\n",
       "      <td>17.2</td>\n",
       "    </tr>\n",
       "    <tr>\n",
       "      <th>153</th>\n",
       "      <td>2015-06-03</td>\n",
       "      <td>1.728381</td>\n",
       "      <td>21.7</td>\n",
       "    </tr>\n",
       "    <tr>\n",
       "      <th>154</th>\n",
       "      <td>2015-06-04</td>\n",
       "      <td>1.921615</td>\n",
       "      <td>25.0</td>\n",
       "    </tr>\n",
       "    <tr>\n",
       "      <th>155</th>\n",
       "      <td>2015-06-05</td>\n",
       "      <td>2.153111</td>\n",
       "      <td>27.8</td>\n",
       "    </tr>\n",
       "  </tbody>\n",
       "</table>\n",
       "</div>"
      ],
      "text/plain": [
       "          date    demand  temp\n",
       "151 2015-06-01  1.640036  15.6\n",
       "152 2015-06-02  1.663211  17.2\n",
       "153 2015-06-03  1.728381  21.7\n",
       "154 2015-06-04  1.921615  25.0\n",
       "155 2015-06-05  2.153111  27.8"
      ]
     },
     "execution_count": 11,
     "metadata": {},
     "output_type": "execute_result"
    }
   ],
   "source": [
    "data_summer.head(5)"
   ]
  },
  {
   "cell_type": "markdown",
   "metadata": {},
   "source": [
    "...e generarne il grafico a dispersione simile a quello sopra."
   ]
  },
  {
   "cell_type": "code",
   "execution_count": 12,
   "metadata": {},
   "outputs": [
    {
     "data": {
      "text/plain": [
       "<matplotlib.axes._subplots.AxesSubplot at 0x7fcb486dc908>"
      ]
     },
     "execution_count": 12,
     "metadata": {},
     "output_type": "execute_result"
    },
    {
     "data": {
      "image/png": "[encoded data removed]",
      "text/plain": [
       "<Figure size 432x288 with 1 Axes>"
      ]
     },
     "metadata": {
      "needs_background": "light"
     },
     "output_type": "display_data"
    }
   ],
   "source": [
    "data_summer.plot.scatter(\"temp\", \"demand\")"
   ]
  },
  {
   "cell_type": "markdown",
   "metadata": {},
   "source": [
    "Da questo grafico vediamo che effettivamente ai giorni più caldi (punti più a destra) corrisponde un maggiore consumo di corrente (in alto)."
   ]
  },
  {
   "cell_type": "markdown",
   "metadata": {},
   "source": [
    "## Creare un modello di regressione\n",
    "\n",
    "Vediamo ora come estrarre da questi dati un modello di regressione che fornisca una stima dei consumi dalla temperatura.\n",
    "\n",
    "Dal grafico sopra si nota che la correlazione tra la temperatura e il consumo di corrente è pressoché _lineare_: se la temperatura aumenta di 1 °C, i consumi crescono di una quantità fissa indipendentemente dalla temperatura specifica.\n",
    "\n",
    "Per questo utilizziamo la _regressione lineare_, un modello basilare che funziona assumendo una correlazione lineare tra la variabile indipendente (la temperatura) e quella dipendente (il consumo). In pratica, la regressione lineare individua la retta che approssima nel modo migliore possibile la disposizione dei punti nel grafico a dispersione.\n",
    "\n",
    "Utilizzeremo **scikit-learn**, una libreria Python che fornisce una vasta varietà di algoritmi di Machine Learning.\n",
    "\n",
    "Per iniziare carichiamo dalla libreria la classe `LinearRegression` che implementa la regressione lineare."
   ]
  },
  {
   "cell_type": "code",
   "execution_count": 13,
   "metadata": {},
   "outputs": [],
   "source": [
    "from sklearn.linear_model import LinearRegression"
   ]
  },
  {
   "cell_type": "markdown",
   "metadata": {},
   "source": [
    "Creiamo quindi un oggetto che rappresenta il nostro modello specifico. Dalla stessa classe è possibile creare molteplici modelli."
   ]
  },
  {
   "cell_type": "code",
   "execution_count": 14,
   "metadata": {},
   "outputs": [],
   "source": [
    "model = LinearRegression()"
   ]
  },
  {
   "cell_type": "markdown",
   "metadata": {},
   "source": [
    "Per essere utilizzato, il modello va _addestrato_ con i dati a disposizione. Per farlo usiamo la funzione `fit`, passando sia i valori della variabile indipendente che quelli della variabile dipendente, dati rispettivamente dalle colonne `temp` e `demand` della tabella `data_summer`."
   ]
  },
  {
   "cell_type": "code",
   "execution_count": 15,
   "metadata": {},
   "outputs": [
    {
     "data": {
      "text/plain": [
       "LinearRegression(copy_X=True, fit_intercept=True, n_jobs=None,\n",
       "         normalize=False)"
      ]
     },
     "execution_count": 15,
     "metadata": {},
     "output_type": "execute_result"
    }
   ],
   "source": [
    "model.fit(data_summer[[\"temp\"]], data_summer[\"demand\"])"
   ]
  },
  {
   "cell_type": "markdown",
   "metadata": {},
   "source": [
    "In questo modo il modello ha \"appreso\" dai dati la correlazione tra le due variabili ed è pronto per effettuare predizioni. La funzione `predict` accetta in input un valore della variabile indipendente (la temperatura) e da in output il valore stimato di quella dipendente (il consumo).\n",
    "\n",
    "Ad esempio, se per domani è prevista una temperatura di 25 °C, il consumo previsto..."
   ]
  },
  {
   "cell_type": "code",
   "execution_count": 16,
   "metadata": {},
   "outputs": [
    {
     "data": {
      "text/plain": [
       "array([1.9849483])"
      ]
     },
     "execution_count": 16,
     "metadata": {},
     "output_type": "execute_result"
    }
   ],
   "source": [
    "model.predict([[25]])"
   ]
  },
  {
   "cell_type": "markdown",
   "metadata": {},
   "source": [
    "...sarà di 1,98 GW circa.\n",
    "\n",
    "È anche possibile effettuare più predizioni in una volta, passando una lista di temperature (per chiarire che si tratta di più osservazioni di una singola variabile, si passa una lista di liste)."
   ]
  },
  {
   "cell_type": "code",
   "execution_count": 17,
   "metadata": {},
   "outputs": [
    {
     "data": {
      "text/plain": [
       "array([2.15558237, 2.41153346, 2.66748456])"
      ]
     },
     "execution_count": 17,
     "metadata": {},
     "output_type": "execute_result"
    }
   ],
   "source": [
    "model.predict([[27], [30], [33]])"
   ]
  },
  {
   "cell_type": "markdown",
   "metadata": {},
   "source": [
    "Come detto sopra, questo modello corrisponde in pratica ad una retta che approssima la distribuzione dei punti nel grafico di dispersione. Per verificare ciò, definiamo una nuova funzione per visualizzare tale retta sovrapposta ad un grafico a dispersione. _(non è necessario che capiate come funziona)_"
   ]
  },
  {
   "cell_type": "code",
   "execution_count": 18,
   "metadata": {},
   "outputs": [],
   "source": [
    "import matplotlib.pyplot as plt\n",
    "def plot_model(model):\n",
    "    xlim = plt.gca().get_xlim()\n",
    "    ylim = plt.gca().get_ylim()\n",
    "    x = pd.np.linspace(xlim[0], xlim[1], 101)\n",
    "    y = model.predict(x.reshape(-1, 1))\n",
    "    plt.plot(x, y, c=\"red\", lw=3)\n",
    "    plt.xlim(xlim)\n",
    "    plt.ylim(ylim)"
   ]
  },
  {
   "cell_type": "markdown",
   "metadata": {},
   "source": [
    "Utilizziamo quindi questa funzione per visualizzare il modello."
   ]
  },
  {
   "cell_type": "code",
   "execution_count": 19,
   "metadata": {},
   "outputs": [
    {
     "data": {
      "image/png": "[encoded data removed]",
      "text/plain": [
       "<Figure size 432x288 with 1 Axes>"
      ]
     },
     "metadata": {
      "needs_background": "light"
     },
     "output_type": "display_data"
    }
   ],
   "source": [
    "data_summer.plot.scatter(\"temp\", \"demand\")\n",
    "plot_model(model)"
   ]
  },
  {
   "cell_type": "markdown",
   "metadata": {},
   "source": [
    "## Validazione del modello\n",
    "\n",
    "Per valutare l'accuratezza delle predizioni di un modello ci serve un insieme di esempi di valori noti delle variabili indipendente x e dipendente y: esistono diverse metriche di accuratezza che quantificano l'accuratezza comparando i valori per y previsti dal modello da quelli reali.\n",
    "\n",
    "Ad esempio, con la funzione `score` di un modello di regressione, passando in input le serie di valori x e y, otteniamo un _coefficiente di determinazione_ ($R^2$) compreso tra 0 e 1 che indica quanto la variabilità della y sia predetta dal modello. Possiamo misurare tale coefficiente sui dati usati per addestrare il modello."
   ]
  },
  {
   "cell_type": "code",
   "execution_count": 20,
   "metadata": {},
   "outputs": [
    {
     "data": {
      "text/plain": [
       "0.7674218758655923"
      ]
     },
     "execution_count": 20,
     "metadata": {},
     "output_type": "execute_result"
    }
   ],
   "source": [
    "model.score(data_summer[[\"temp\"]], data_summer[\"demand\"])"
   ]
  },
  {
   "cell_type": "markdown",
   "metadata": {},
   "source": [
    "Tuttavia, per valutare correttamente l'abilità del modello nel generalizzare i dati osservati, abbiamo bisogno di testarlo su un insieme di dati separato.\n",
    "\n",
    "Per questo, invece di utilizzare l'intero insieme di dati disponibili sui mesi estivi, dividiamo tale insieme in un _training set_ per l'addestramento del modello e in un _validation set_ per la valutazione della sua accuratezza.\n",
    "\n",
    "scikit-learn fornisce una funzione `train_test_split` per dividere casualmente i dati nei due set secondo una proporzione data.\n",
    "- L'opzione `test_size=0.3` indica che il 30% dei dati sarà assegnato al validation set, il training set conterrà il restante 70%.\n",
    "- L'opzione `random_state=42` serve a \"fissare\" la casualità della divisione: rieseguendo la stessa istruzione con lo stesso `random_state` si otterrà essattamente la stessa divisione dei dati."
   ]
  },
  {
   "cell_type": "code",
   "execution_count": 21,
   "metadata": {},
   "outputs": [],
   "source": [
    "from sklearn.model_selection import train_test_split\n",
    "X_train, X_val, y_train, y_val = \\\n",
    "    train_test_split(data_summer[[\"temp\"]], data_summer[\"demand\"], test_size=0.3, random_state=42)"
   ]
  },
  {
   "cell_type": "markdown",
   "metadata": {},
   "source": [
    "In questo modo i valori di `temp` vengono ripartiti casualmente tra `X_train` (training set) e `X_val` (validation set); `y_train` e `y_val` contengono invece i corrispondenti valori di `demand`.\n",
    "\n",
    "A questo punto creiamo un nuovo modello di regressione lineare."
   ]
  },
  {
   "cell_type": "code",
   "execution_count": 22,
   "metadata": {},
   "outputs": [],
   "source": [
    "model = LinearRegression()"
   ]
  },
  {
   "cell_type": "markdown",
   "metadata": {},
   "source": [
    "Stavolta però addestriamo il modello solamente sui dati del training set, passando come prima la serie di valori della variabile indipendente (X, temperature) e quelli della variabile dipendente (y, consumi)."
   ]
  },
  {
   "cell_type": "code",
   "execution_count": 23,
   "metadata": {},
   "outputs": [
    {
     "data": {
      "text/plain": [
       "LinearRegression(copy_X=True, fit_intercept=True, n_jobs=None,\n",
       "         normalize=False)"
      ]
     },
     "execution_count": 23,
     "metadata": {},
     "output_type": "execute_result"
    }
   ],
   "source": [
    "model.fit(X_train, y_train)"
   ]
  },
  {
   "cell_type": "markdown",
   "metadata": {},
   "source": [
    "Ora, oltre ad ottenere una valutazione del modello basata sul training set..."
   ]
  },
  {
   "cell_type": "code",
   "execution_count": 24,
   "metadata": {},
   "outputs": [
    {
     "data": {
      "text/plain": [
       "0.7689433269368844"
      ]
     },
     "execution_count": 24,
     "metadata": {},
     "output_type": "execute_result"
    }
   ],
   "source": [
    "model.score(X_train, y_train)"
   ]
  },
  {
   "cell_type": "markdown",
   "metadata": {},
   "source": [
    "...possiamo ottenerne una più significativa basata sul validation set, contenente dati non visti prima dal modello."
   ]
  },
  {
   "cell_type": "code",
   "execution_count": 25,
   "metadata": {},
   "outputs": [
    {
     "data": {
      "text/plain": [
       "0.7508669565801298"
      ]
     },
     "execution_count": 25,
     "metadata": {},
     "output_type": "execute_result"
    }
   ],
   "source": [
    "model.score(X_val, y_val)"
   ]
  },
  {
   "cell_type": "markdown",
   "metadata": {},
   "source": [
    "Il coefficiente calcolato sul validation set è vicino a quello calcolato sul training set: possiamo dedurre che il modello abbia efficacemente generalizzato gli esempi visti nel training set."
   ]
  },
  {
   "cell_type": "markdown",
   "metadata": {},
   "source": [
    "## Altri modelli di regressione\n",
    "\n",
    "Il modello generato sopra prevede abbastanza efficacemente i consumi nei mesi estivi. Ma se volessimo un modello più generale da utilizzare per tutto l'anno?\n",
    "\n",
    "Rieseguiamo come prima la divisione dei dati in training e validation set, ma questa volta consideriamo la tabella `data` contenente l'intero insieme di dati, non solamente quelli sui mesi estivi."
   ]
  },
  {
   "cell_type": "code",
   "execution_count": 26,
   "metadata": {},
   "outputs": [],
   "source": [
    "X_train, X_val, y_train, y_val = \\\n",
    "    train_test_split(data[[\"temp\"]], data[\"demand\"], test_size=0.3, random_state=42)"
   ]
  },
  {
   "cell_type": "markdown",
   "metadata": {},
   "source": [
    "Testiamo l'accuratezza di un modello di regressione lineare su questi dati."
   ]
  },
  {
   "cell_type": "code",
   "execution_count": 27,
   "metadata": {},
   "outputs": [
    {
     "data": {
      "text/plain": [
       "0.16809034828105496"
      ]
     },
     "execution_count": 27,
     "metadata": {},
     "output_type": "execute_result"
    }
   ],
   "source": [
    "model = LinearRegression()\n",
    "model.fit(X_train, y_train)\n",
    "model.score(X_val, y_val)"
   ]
  },
  {
   "cell_type": "markdown",
   "metadata": {},
   "source": [
    "Il coefficiente questa volta è molto basso, segno che il modello è scarsamente accurato. La causa si può vedere visualizzando il modello nel grafico a dispersione dei dati."
   ]
  },
  {
   "cell_type": "code",
   "execution_count": 28,
   "metadata": {},
   "outputs": [
    {
     "data": {
      "image/png": "[encoded data removed]",
      "text/plain": [
       "<Figure size 432x288 with 1 Axes>"
      ]
     },
     "metadata": {
      "needs_background": "light"
     },
     "output_type": "display_data"
    }
   ],
   "source": [
    "data.plot.scatter(\"temp\", \"demand\")\n",
    "plot_model(model)"
   ]
  },
  {
   "cell_type": "markdown",
   "metadata": {},
   "source": [
    "Un modello di regressione lineare non può essere efficace, in quanto nei dati completi non c'è una correlazione lineare: il consumo di elettricità è alto nei giorni più caldi per via dell'aria condizionata, ma si alza anche nei giorni più freddi per il riscaldamento.\n",
    "\n",
    "Esistono però molti altri tipi di modelli di regressione, che riescono a catturare dipendenze più complesse tra le variabili. Ad esempio la regressione _kernel ridge_ rispetto alla lineare utilizza delle funzioni _kernel_ che trasformano lo spazio dei dati in modo non lineare e usa la _regolarizzazione_ per rendere meno probabile che il modello \"impari a memoria\" i dati piuttosto che generalizzarli (fenomeno noto in gergo come _overfitting_).\n",
    "\n",
    "Creiamo quindi un modello di questo tipo specificandone alcuni parametri, in questo caso il tipo di funzione kernel e l'intensità della regolarizzazione."
   ]
  },
  {
   "cell_type": "code",
   "execution_count": 29,
   "metadata": {},
   "outputs": [],
   "source": [
    "from sklearn.kernel_ridge import KernelRidge\n",
    "model = KernelRidge(kernel=\"poly\", degree=2, alpha=0.1)"
   ]
  },
  {
   "cell_type": "markdown",
   "metadata": {},
   "source": [
    "Al di la della sua definizione, possiamo interagire con questo modello esattamente come con quelli di regressione lineare, per cui lo addestriamo sul training set con la funzione `fit`..."
   ]
  },
  {
   "cell_type": "code",
   "execution_count": 30,
   "metadata": {},
   "outputs": [
    {
     "data": {
      "text/plain": [
       "KernelRidge(alpha=0.1, coef0=1, degree=2, gamma=None, kernel='poly',\n",
       "      kernel_params=None)"
      ]
     },
     "execution_count": 30,
     "metadata": {},
     "output_type": "execute_result"
    }
   ],
   "source": [
    "model.fit(X_train, y_train)"
   ]
  },
  {
   "cell_type": "markdown",
   "metadata": {},
   "source": [
    "...e ne eseguiamo la valutazione sul validation set con la funzione `score`."
   ]
  },
  {
   "cell_type": "code",
   "execution_count": 31,
   "metadata": {},
   "outputs": [
    {
     "data": {
      "text/plain": [
       "0.726290366053713"
      ]
     },
     "execution_count": 31,
     "metadata": {},
     "output_type": "execute_result"
    }
   ],
   "source": [
    "model.score(X_val, y_val)"
   ]
  },
  {
   "cell_type": "markdown",
   "metadata": {},
   "source": [
    "Questo modello è molto più accurato, in quanto l'uso di una funzione non lineare riesce a catturare meglio l'andamento dei dati, come si vede sovrapponendo il modello al grafico a dispersione."
   ]
  },
  {
   "cell_type": "code",
   "execution_count": 32,
   "metadata": {},
   "outputs": [
    {
     "data": {
      "image/png": "[encoded data removed]",
      "text/plain": [
       "<Figure size 432x288 with 1 Axes>"
      ]
     },
     "metadata": {
      "needs_background": "light"
     },
     "output_type": "display_data"
    }
   ],
   "source": [
    "data.plot.scatter(\"temp\", \"demand\")\n",
    "plot_model(model)"
   ]
  },
  {
   "cell_type": "markdown",
   "metadata": {},
   "source": [
    "In pratica al posto della retta abbiamo una parabola, avendo usato una funzione kernel di 2° grado. Se vogliamo testare una funzione kernel di grado maggiore, è sufficiente creare un nuovo modello cambiando il relativo parametro."
   ]
  },
  {
   "cell_type": "code",
   "execution_count": 33,
   "metadata": {},
   "outputs": [
    {
     "data": {
      "text/plain": [
       "0.8221464909721348"
      ]
     },
     "execution_count": 33,
     "metadata": {},
     "output_type": "execute_result"
    }
   ],
   "source": [
    "model = KernelRidge(kernel=\"poly\", degree=3, alpha=0.1)\n",
    "model.fit(X_train, y_train)\n",
    "model.score(X_val, y_val)"
   ]
  },
  {
   "cell_type": "code",
   "execution_count": 34,
   "metadata": {},
   "outputs": [
    {
     "data": {
      "image/png": "[encoded data removed]",
      "text/plain": [
       "<Figure size 432x288 with 1 Axes>"
      ]
     },
     "metadata": {
      "needs_background": "light"
     },
     "output_type": "display_data"
    }
   ],
   "source": [
    "data.plot.scatter(\"temp\", \"demand\")\n",
    "plot_model(model)"
   ]
  },
  {
   "cell_type": "markdown",
   "metadata": {},
   "source": [
    "La curva di 3° grado approssima i dati ancora meglio di quella precedente.\n",
    "\n",
    "In genere, per arrivare ad avere un modello quanto più accurato possibile, si seleziona una lista di algoritmi da testare (regressione lineare, kernel ridge, ecc.), si eseguono molti test applicando diversi parametri e si seleziona il modello su cui la validazione ha dato il risultato migliore. scikit-learn integra funzionalità (_grid search_) per testare in blocco diverse combinazioni di parametri dati gli intervalli in cui possono variare."
   ]
  },
  {
   "cell_type": "markdown",
   "metadata": {},
   "source": [
    "## Esempio 2: stima dei prezzi delle case\n",
    "\n",
    "Lavoriamo ora sul problema della stima dei prezzi da assegnare alle case in base alle loro caratteristiche.\n",
    "\n",
    "Il dataset _Boston Housing Data_, usato in ricerca e disponibile sul Web, contiene informazioni sui quartieri residenziali di Boston. Anche se si riferisce a quartieri interi, le caratteristiche riportate sono simili a quelle che si potrebbero individuare per singole case.\n",
    "\n",
    "I dati possono essere reperiti al seguente URL:"
   ]
  },
  {
   "cell_type": "code",
   "execution_count": 35,
   "metadata": {},
   "outputs": [],
   "source": [
    "housing_url = \"https://archive.ics.uci.edu/ml/machine-learning-databases/housing/housing.data\""
   ]
  },
  {
   "cell_type": "markdown",
   "metadata": {},
   "source": [
    "Usiamo anche quì `read_csv` per caricare i dati, impostando alcune opzioni per leggere correttamente questo file specifico (colonne separate da uno o più spazi, niente riga d'intestazione con i nomi delle colonne)."
   ]
  },
  {
   "cell_type": "code",
   "execution_count": 36,
   "metadata": {},
   "outputs": [],
   "source": [
    "data = pd.read_csv(housing_url, sep=\"\\s+\", header=None)"
   ]
  },
  {
   "cell_type": "markdown",
   "metadata": {},
   "source": [
    "Il numero di righe e colonne è..."
   ]
  },
  {
   "cell_type": "code",
   "execution_count": 37,
   "metadata": {},
   "outputs": [
    {
     "data": {
      "text/plain": [
       "(506, 14)"
      ]
     },
     "execution_count": 37,
     "metadata": {},
     "output_type": "execute_result"
    }
   ],
   "source": [
    "data.shape"
   ]
  },
  {
   "cell_type": "markdown",
   "metadata": {},
   "source": [
    "Dato che questo file non ha i nomi delle colonne, li assegniamo manualmente secondo le indicazioni date quì: https://archive.ics.uci.edu/ml/machine-learning-databases/housing/housing.names"
   ]
  },
  {
   "cell_type": "code",
   "execution_count": 38,
   "metadata": {},
   "outputs": [],
   "source": [
    "data.columns = \"CRIM ZN INDUS CHAS NOX RM AGE DIS RAD TAX PTRATIO B LSTAT MEDV\".split()"
   ]
  },
  {
   "cell_type": "markdown",
   "metadata": {},
   "source": [
    "Vediamo alcune righe della tabella completa con i nomi delle colonne"
   ]
  },
  {
   "cell_type": "code",
   "execution_count": 39,
   "metadata": {},
   "outputs": [
    {
     "data": {
      "text/html": [
       "<div>\n",
       "<style scoped>\n",
       "    .dataframe tbody tr th:only-of-type {\n",
       "        vertical-align: middle;\n",
       "    }\n",
       "\n",
       "    .dataframe tbody tr th {\n",
       "        vertical-align: top;\n",
       "    }\n",
       "\n",
       "    .dataframe thead th {\n",
       "        text-align: right;\n",
       "    }\n",
       "</style>\n",
       "<table border=\"1\" class=\"dataframe\">\n",
       "  <thead>\n",
       "    <tr style=\"text-align: right;\">\n",
       "      <th></th>\n",
       "      <th>CRIM</th>\n",
       "      <th>ZN</th>\n",
       "      <th>INDUS</th>\n",
       "      <th>CHAS</th>\n",
       "      <th>NOX</th>\n",
       "      <th>RM</th>\n",
       "      <th>AGE</th>\n",
       "      <th>DIS</th>\n",
       "      <th>RAD</th>\n",
       "      <th>TAX</th>\n",
       "      <th>PTRATIO</th>\n",
       "      <th>B</th>\n",
       "      <th>LSTAT</th>\n",
       "      <th>MEDV</th>\n",
       "    </tr>\n",
       "  </thead>\n",
       "  <tbody>\n",
       "    <tr>\n",
       "      <th>0</th>\n",
       "      <td>0.00632</td>\n",
       "      <td>18.0</td>\n",
       "      <td>2.31</td>\n",
       "      <td>0</td>\n",
       "      <td>0.538</td>\n",
       "      <td>6.575</td>\n",
       "      <td>65.2</td>\n",
       "      <td>4.0900</td>\n",
       "      <td>1</td>\n",
       "      <td>296.0</td>\n",
       "      <td>15.3</td>\n",
       "      <td>396.90</td>\n",
       "      <td>4.98</td>\n",
       "      <td>24.0</td>\n",
       "    </tr>\n",
       "    <tr>\n",
       "      <th>1</th>\n",
       "      <td>0.02731</td>\n",
       "      <td>0.0</td>\n",
       "      <td>7.07</td>\n",
       "      <td>0</td>\n",
       "      <td>0.469</td>\n",
       "      <td>6.421</td>\n",
       "      <td>78.9</td>\n",
       "      <td>4.9671</td>\n",
       "      <td>2</td>\n",
       "      <td>242.0</td>\n",
       "      <td>17.8</td>\n",
       "      <td>396.90</td>\n",
       "      <td>9.14</td>\n",
       "      <td>21.6</td>\n",
       "    </tr>\n",
       "    <tr>\n",
       "      <th>2</th>\n",
       "      <td>0.02729</td>\n",
       "      <td>0.0</td>\n",
       "      <td>7.07</td>\n",
       "      <td>0</td>\n",
       "      <td>0.469</td>\n",
       "      <td>7.185</td>\n",
       "      <td>61.1</td>\n",
       "      <td>4.9671</td>\n",
       "      <td>2</td>\n",
       "      <td>242.0</td>\n",
       "      <td>17.8</td>\n",
       "      <td>392.83</td>\n",
       "      <td>4.03</td>\n",
       "      <td>34.7</td>\n",
       "    </tr>\n",
       "    <tr>\n",
       "      <th>3</th>\n",
       "      <td>0.03237</td>\n",
       "      <td>0.0</td>\n",
       "      <td>2.18</td>\n",
       "      <td>0</td>\n",
       "      <td>0.458</td>\n",
       "      <td>6.998</td>\n",
       "      <td>45.8</td>\n",
       "      <td>6.0622</td>\n",
       "      <td>3</td>\n",
       "      <td>222.0</td>\n",
       "      <td>18.7</td>\n",
       "      <td>394.63</td>\n",
       "      <td>2.94</td>\n",
       "      <td>33.4</td>\n",
       "    </tr>\n",
       "    <tr>\n",
       "      <th>4</th>\n",
       "      <td>0.06905</td>\n",
       "      <td>0.0</td>\n",
       "      <td>2.18</td>\n",
       "      <td>0</td>\n",
       "      <td>0.458</td>\n",
       "      <td>7.147</td>\n",
       "      <td>54.2</td>\n",
       "      <td>6.0622</td>\n",
       "      <td>3</td>\n",
       "      <td>222.0</td>\n",
       "      <td>18.7</td>\n",
       "      <td>396.90</td>\n",
       "      <td>5.33</td>\n",
       "      <td>36.2</td>\n",
       "    </tr>\n",
       "  </tbody>\n",
       "</table>\n",
       "</div>"
      ],
      "text/plain": [
       "      CRIM    ZN  INDUS  CHAS    NOX     RM   AGE     DIS  RAD    TAX  \\\n",
       "0  0.00632  18.0   2.31     0  0.538  6.575  65.2  4.0900    1  296.0   \n",
       "1  0.02731   0.0   7.07     0  0.469  6.421  78.9  4.9671    2  242.0   \n",
       "2  0.02729   0.0   7.07     0  0.469  7.185  61.1  4.9671    2  242.0   \n",
       "3  0.03237   0.0   2.18     0  0.458  6.998  45.8  6.0622    3  222.0   \n",
       "4  0.06905   0.0   2.18     0  0.458  7.147  54.2  6.0622    3  222.0   \n",
       "\n",
       "   PTRATIO       B  LSTAT  MEDV  \n",
       "0     15.3  396.90   4.98  24.0  \n",
       "1     17.8  396.90   9.14  21.6  \n",
       "2     17.8  392.83   4.03  34.7  \n",
       "3     18.7  394.63   2.94  33.4  \n",
       "4     18.7  396.90   5.33  36.2  "
      ]
     },
     "execution_count": 39,
     "metadata": {},
     "output_type": "execute_result"
    }
   ],
   "source": [
    "data.head(5)"
   ]
  },
  {
   "cell_type": "markdown",
   "metadata": {},
   "source": [
    "Il significato di ciascuna colonna, riportato dalle indicazioni sopra, è:\n",
    "- CRIM: tasso di criminalità pro capite per zona\n",
    "- ZN: proporzione terreno residenziale per lotti maggiori di 25.000 piedi quadrati (circa 2300 m2)\n",
    "- INDUS: proporzione di acri industriali non commerciali per città\n",
    "- CHAS: variabile fittizia Charles River, 1 se il tratto affianca il fiume, altrimenti 0\n",
    "- NOX: concentrazione di ossido d’azoto (parti per 10 milioni)\n",
    "- RM: numero medio di stanze per abitazione\n",
    "- AGE: proporzione delle unità abitate costruite prima del 1940\n",
    "- DIS: distanze pesate verso i cinque uffici di collocamento di Boston\n",
    "- RAD: indice di accessibilità rispetto alle grandi vie radiali di comunicazione\n",
    "- TAX: tasso di imposte sulla casa per 10.000 dollari\n",
    "- PTRATIO: rapporto allievi-docenti per città\n",
    "- B: 1000(Bk - 0.63)2, dove Bk è la proporzione di persone di origine afroamericana\n",
    "- LSTAT: percentuale di popolazione con basso reddito\n",
    "- MEDV: valore mediano delle abitazioni di proprietà in migliaia di dollari\n",
    "\n",
    "Quì l'obiettivo dell'analisi di regressione è estrarre un modello che stimi il valore dell'abitazione (MEDV) avendo note le altre variabili. Estraiamo quindi la serie dei valori da predire della variabile dipendente che chiamiamo y..."
   ]
  },
  {
   "cell_type": "code",
   "execution_count": 40,
   "metadata": {},
   "outputs": [],
   "source": [
    "y = data[\"MEDV\"]"
   ]
  },
  {
   "cell_type": "markdown",
   "metadata": {},
   "source": [
    "...e le serie di valori delle altre variabili. Con l'istruzione seguente selezioniamo tutte le variabili tranne MEDV."
   ]
  },
  {
   "cell_type": "code",
   "execution_count": 41,
   "metadata": {},
   "outputs": [],
   "source": [
    "X = data.drop(columns=[\"MEDV\"])"
   ]
  },
  {
   "cell_type": "markdown",
   "metadata": {},
   "source": [
    "Come sopra usiamo la funzione `train_test_split` per dividere i dati tra training e validation set."
   ]
  },
  {
   "cell_type": "code",
   "execution_count": 42,
   "metadata": {},
   "outputs": [],
   "source": [
    "X_train, X_val, y_train, y_val = train_test_split(X, y, test_size=0.3, random_state=42)"
   ]
  },
  {
   "cell_type": "markdown",
   "metadata": {},
   "source": [
    "Verifichiamo l'accuratezza di un modello di regressione lineare."
   ]
  },
  {
   "cell_type": "code",
   "execution_count": 43,
   "metadata": {},
   "outputs": [
    {
     "data": {
      "text/plain": [
       "0.7112260057484914"
      ]
     },
     "execution_count": 43,
     "metadata": {},
     "output_type": "execute_result"
    }
   ],
   "source": [
    "model = LinearRegression()\n",
    "model.fit(X_train, y_train)\n",
    "model.score(X_val, y_val)"
   ]
  },
  {
   "cell_type": "markdown",
   "metadata": {},
   "source": [
    "In questo caso con la semplice regressione lineare si ottiene un modello discretamente accurato.\n",
    "\n",
    "Un modello di regressione lineare ricava il valore della variabile dipendente in pratica come una somma pesata dei valori di quelle indipendenti. Può essere interessante vedere i pesi assegnati alle variabili per capire quanto ciascuna sia importante nella stima del prezzo.\n",
    "\n",
    "I pesi sono memorizzati in un vettore `coef_` nel modello: l'istruzione seguente li visualizza associando a ciascuno il nome della variabile corrispondente."
   ]
  },
  {
   "cell_type": "code",
   "execution_count": 44,
   "metadata": {},
   "outputs": [
    {
     "data": {
      "text/plain": [
       "CRIM       -0.133470\n",
       "ZN          0.035809\n",
       "INDUS       0.049523\n",
       "CHAS        3.119835\n",
       "NOX       -15.417061\n",
       "RM          4.057199\n",
       "AGE        -0.010821\n",
       "DIS        -1.385998\n",
       "RAD         0.242727\n",
       "TAX        -0.008702\n",
       "PTRATIO    -0.910685\n",
       "B           0.011794\n",
       "LSTAT      -0.547113\n",
       "dtype: float64"
      ]
     },
     "execution_count": 44,
     "metadata": {},
     "output_type": "execute_result"
    }
   ],
   "source": [
    "pd.Series(model.coef_, index=X.columns)"
   ]
  },
  {
   "cell_type": "markdown",
   "metadata": {},
   "source": [
    "Da questi valori si capisce ad esempio che il modello stima che una casa vicina al fiume Charles (variabile CHAS=1) valga generalmente circa 3.100 dollari in più, mentre per ogni stanza (variabile RM) il valore a parità di metratura e altri fattori cresce di circa 4.000 dollari. Si tenga presente che la forte differenza tra i valori è data per lo più dalle differenze di scala delle diverse variabili.\n",
    "\n",
    "Come sopra, oltre alla regressione lineare, testiamo anche la kernel ridge e vediamo se si ottiene un modello più accurato."
   ]
  },
  {
   "cell_type": "code",
   "execution_count": 45,
   "metadata": {},
   "outputs": [
    {
     "data": {
      "text/plain": [
       "0.7506893743389089"
      ]
     },
     "execution_count": 45,
     "metadata": {},
     "output_type": "execute_result"
    }
   ],
   "source": [
    "model = KernelRidge(kernel=\"poly\", degree=2, alpha=0.1)\n",
    "model.fit(X_train, y_train)\n",
    "model.score(X_val, y_val)"
   ]
  },
  {
   "cell_type": "markdown",
   "metadata": {},
   "source": [
    "In questo caso il risultato della kernel ridge è superiore solo di poco rispetto alla regressione lineare, ma potrebbe variare cambiando i parametri."
   ]
  },
  {
   "cell_type": "markdown",
   "metadata": {},
   "source": [
    "## Esercizi proposti\n",
    "\n",
    "- Rieseguire la cella sopra con valori diversi dei parametri `degree` (grado della funzione kernel) e/o `alpha` (intensità di regolarizzazione), verificare se si riesce ad ottenere un modello più accurato\n",
    "- Scegliere dal set di dati una delle variabili indipendenti (es. TAX), visualizzarne in un grafico a dispersione la correlazione col valore della casa (MEDV) e verificare l'accuratezza di un modello di regressione addestrato solo su quella variabile."
   ]
  }
 ],
 "metadata": {
  "kernelspec": {
   "display_name": "IFTS",
   "language": "python",
   "name": "ifts"
  },
  "language_info": {
   "codemirror_mode": {
    "name": "ipython",
    "version": 3
   },
   "file_extension": ".py",
   "mimetype": "text/x-python",
   "name": "python",
   "nbconvert_exporter": "python",
   "pygments_lexer": "ipython3",
   "version": "3.5.2"
  }
 },
 "nbformat": 4,
 "nbformat_minor": 2
}
