{
 "cells": [
  {
   "cell_type": "markdown",
   "metadata": {},
   "source": [
    "# Laboratorio: Deep Learning (seminario)"
   ]
  },
  {
   "cell_type": "markdown",
   "metadata": {},
   "source": [
    "## Machine Learning tradizionale e Deep Learning\n",
    "\n",
    "- L'obiettivo generale del _machine learning_ è far sì che un calcolatore **impari tramite esempi** ad eseguire task non esprimibili in forma algoritmica\n",
    "  - predire variazioni del mercato azionario, capire se un'opinione sia positiva o negativa, riconoscere oggetti in foto e video, ...\n",
    "- Le tecniche tradizionali si basano sull'estrazione di _feature_ supervisionata dall'utente\n",
    "  - es. parole dai testi, pattern dalle immagini, ...\n",
    "  - le feature vanno selezionate attentamente, in modo da \"guidare\" l'apprendimento così che si basi sulle giuste caratteristiche dei dati\n",
    "- Nel _deep learning_ vengono addestrati modelli **a molteplici strati**, che rappresentano **diversi livelli d'astrazione** dei dati, forniti al modello in forma \"grezza\"\n",
    "- In questo modo anche **la rappresentazione ottimale dei dati è appresa dall'algoritmo**\n",
    "- Le reti neurali sono usate comunemente come modello di deep learning"
   ]
  },
  {
   "cell_type": "markdown",
   "metadata": {},
   "source": [
    "## Esempio: Classificazione di Recensioni\n",
    "\n",
    "- Abbiamo due dataset di recensioni di film estratte da IMDb, classificate come \"positive\" e \"negative\"\n",
    "- Vogliamo addestrare una rete neurale a classificarle sul primo dataset (training) e verificare la sua accuratezza sul secondo (validation)\n",
    "- Carichiamo i due dataset"
   ]
  },
  {
   "cell_type": "code",
   "execution_count": 18,
   "metadata": {},
   "outputs": [],
   "source": [
    "import pandas as pd\n",
    "imdb_train = pd.read_csv(\"https://bit.ly/2JrF1lk\", sep=\"\\t\", header=None, names=[\"label\", \"text\"], compression=\"gzip\")\n",
    "imdb_val = pd.read_csv(\"https://bit.ly/2sQnIDb\", sep=\"\\t\", header=None, names=[\"label\", \"text\"], compression=\"gzip\")"
   ]
  },
  {
   "cell_type": "code",
   "execution_count": 7,
   "metadata": {},
   "outputs": [
    {
     "data": {
      "text/plain": [
       "(25000, 25000)"
      ]
     },
     "execution_count": 7,
     "metadata": {},
     "output_type": "execute_result"
    }
   ],
   "source": [
    "len(imdb_train), len(imdb_val)"
   ]
  },
  {
   "cell_type": "code",
   "execution_count": 8,
   "metadata": {},
   "outputs": [
    {
     "data": {
      "text/html": [
       "<div>\n",
       "<style scoped>\n",
       "    .dataframe tbody tr th:only-of-type {\n",
       "        vertical-align: middle;\n",
       "    }\n",
       "\n",
       "    .dataframe tbody tr th {\n",
       "        vertical-align: top;\n",
       "    }\n",
       "\n",
       "    .dataframe thead th {\n",
       "        text-align: right;\n",
       "    }\n",
       "</style>\n",
       "<table border=\"1\" class=\"dataframe\">\n",
       "  <thead>\n",
       "    <tr style=\"text-align: right;\">\n",
       "      <th></th>\n",
       "      <th>stars</th>\n",
       "      <th>text</th>\n",
       "    </tr>\n",
       "  </thead>\n",
       "  <tbody>\n",
       "    <tr>\n",
       "      <th>0</th>\n",
       "      <td>pos</td>\n",
       "      <td>Bromwell High is a cartoon comedy. It ran at t...</td>\n",
       "    </tr>\n",
       "    <tr>\n",
       "      <th>1</th>\n",
       "      <td>neg</td>\n",
       "      <td>Story of a man who has unnatural feelings for ...</td>\n",
       "    </tr>\n",
       "    <tr>\n",
       "      <th>2</th>\n",
       "      <td>pos</td>\n",
       "      <td>If you like adult comedy cartoons, like South ...</td>\n",
       "    </tr>\n",
       "    <tr>\n",
       "      <th>3</th>\n",
       "      <td>neg</td>\n",
       "      <td>Robert DeNiro plays the most unbelievably inte...</td>\n",
       "    </tr>\n",
       "  </tbody>\n",
       "</table>\n",
       "</div>"
      ],
      "text/plain": [
       "  stars                                               text\n",
       "0   pos  Bromwell High is a cartoon comedy. It ran at t...\n",
       "1   neg  Story of a man who has unnatural feelings for ...\n",
       "2   pos  If you like adult comedy cartoons, like South ...\n",
       "3   neg  Robert DeNiro plays the most unbelievably inte..."
      ]
     },
     "execution_count": 8,
     "metadata": {},
     "output_type": "execute_result"
    }
   ],
   "source": [
    "imdb_train.head(4)"
   ]
  },
  {
   "cell_type": "code",
   "execution_count": 9,
   "metadata": {},
   "outputs": [
    {
     "data": {
      "text/html": [
       "<div>\n",
       "<style scoped>\n",
       "    .dataframe tbody tr th:only-of-type {\n",
       "        vertical-align: middle;\n",
       "    }\n",
       "\n",
       "    .dataframe tbody tr th {\n",
       "        vertical-align: top;\n",
       "    }\n",
       "\n",
       "    .dataframe thead th {\n",
       "        text-align: right;\n",
       "    }\n",
       "</style>\n",
       "<table border=\"1\" class=\"dataframe\">\n",
       "  <thead>\n",
       "    <tr style=\"text-align: right;\">\n",
       "      <th></th>\n",
       "      <th>stars</th>\n",
       "      <th>text</th>\n",
       "    </tr>\n",
       "  </thead>\n",
       "  <tbody>\n",
       "    <tr>\n",
       "      <th>0</th>\n",
       "      <td>pos</td>\n",
       "      <td>I went and saw this movie last night after bei...</td>\n",
       "    </tr>\n",
       "    <tr>\n",
       "      <th>1</th>\n",
       "      <td>neg</td>\n",
       "      <td>Once again Mr. Costner has dragged out a movie...</td>\n",
       "    </tr>\n",
       "    <tr>\n",
       "      <th>2</th>\n",
       "      <td>pos</td>\n",
       "      <td>My boyfriend and I went to watch The Guardian....</td>\n",
       "    </tr>\n",
       "    <tr>\n",
       "      <th>3</th>\n",
       "      <td>neg</td>\n",
       "      <td>This is a pale imitation of 'Officer and a Gen...</td>\n",
       "    </tr>\n",
       "  </tbody>\n",
       "</table>\n",
       "</div>"
      ],
      "text/plain": [
       "  stars                                               text\n",
       "0   pos  I went and saw this movie last night after bei...\n",
       "1   neg  Once again Mr. Costner has dragged out a movie...\n",
       "2   pos  My boyfriend and I went to watch The Guardian....\n",
       "3   neg  This is a pale imitation of 'Officer and a Gen..."
      ]
     },
     "execution_count": 9,
     "metadata": {},
     "output_type": "execute_result"
    }
   ],
   "source": [
    "imdb_val.head(4)"
   ]
  },
  {
   "cell_type": "markdown",
   "metadata": {},
   "source": [
    "## Keras\n",
    "\n",
    "- _Keras_ è una libreria di alto livello per la costruzione e l'addestramento di reti neurali\n",
    "- Permette di costruire facilmente reti neurali, combinando tra loro elementi configurabili\n",
    "  - strati della rete, funzioni di costo, funzioni d'attivazione, ...\n",
    "- Utilizza il framework TensorFlow come backend per il calcolo effettivo\n",
    "  - TensorFlow fornisce supporto per eseguire calcoli accelerati su GPU"
   ]
  },
  {
   "cell_type": "markdown",
   "metadata": {},
   "source": [
    "## Costruzione Vector Space Model\n",
    "\n",
    "- Per fornire i testi in ingresso alla rete, rappresentiamoli in uno spazio vettoriale utilizzando i tf.idf come visto in precedenza\n",
    "  - creiamo lo spazio vettoriale sulle recensioni di training selezionando solo i termini presenti in almeno 3 di esse e lo applichiamo ad entrambi i set"
   ]
  },
  {
   "cell_type": "code",
   "execution_count": 10,
   "metadata": {},
   "outputs": [],
   "source": [
    "from sklearn.feature_extraction.text import TfidfVectorizer\n",
    "vect = TfidfVectorizer(min_df=3)\n",
    "dtm_train = vect.fit_transform(imdb_train.text)\n",
    "dtm_val = vect.transform(imdb_val.text)"
   ]
  },
  {
   "cell_type": "markdown",
   "metadata": {},
   "source": [
    "- Otteniamo il numero di termini distinti estratti (le dimensioni dello spazio vettoriale), che ci servirà per definire la struttura della rete"
   ]
  },
  {
   "cell_type": "code",
   "execution_count": 11,
   "metadata": {},
   "outputs": [
    {
     "data": {
      "text/plain": [
       "35853"
      ]
     },
     "execution_count": 11,
     "metadata": {},
     "output_type": "execute_result"
    }
   ],
   "source": [
    "num_terms = len(vect.get_feature_names())\n",
    "num_terms"
   ]
  },
  {
   "cell_type": "markdown",
   "metadata": {},
   "source": [
    "## Costruire una Rete come Sequenza di Strati\n",
    "\n",
    "- Il modello `Sequential` di Keras permette di comporre una rete come una sequenza di strati\n",
    "- Partendo da un modello vuoto..."
   ]
  },
  {
   "cell_type": "code",
   "execution_count": 35,
   "metadata": {},
   "outputs": [],
   "source": [
    "from keras.models import Sequential\n",
    "model = Sequential()"
   ]
  },
  {
   "cell_type": "markdown",
   "metadata": {},
   "source": [
    "- ...possiamo progressivamente aggiungere gli strati che formano la rete"
   ]
  },
  {
   "cell_type": "markdown",
   "metadata": {},
   "source": [
    "- Lo strato standard è `Dense`, in cui ciascun nodo riceve in input _tutti_ gli output dei nodi allo strato precedente\n",
    "- Come primo argomento è specificato il numero di nodi in questo strato della rete, poniamo come esempio 4\n",
    "- Essendo il primo strato della rete, dobbiamo specicare il numero di valori in input ricevuti dall'esterno, che in questo caso è la dimensionalità dello spazio di vettori creato sopra"
   ]
  },
  {
   "cell_type": "code",
   "execution_count": 36,
   "metadata": {},
   "outputs": [],
   "source": [
    "from keras.layers import Dense\n",
    "model.add(Dense(16, input_dim=num_terms))"
   ]
  },
  {
   "cell_type": "markdown",
   "metadata": {},
   "source": [
    "- Otteniamo così uno strato di neuroni ciascuno dei quali da in output una somma pesata dei valori in input"
   ]
  },
  {
   "cell_type": "markdown",
   "metadata": {},
   "source": [
    "- Su questo strato, possiamo aggiungerne uno di tipo `Activation` che applichi una funzione di attivazione agli output che diventano così non-lineari\n",
    "- Applichiamo ad esempio la funzione sigmoide, vista anche nella regressione logistica"
   ]
  },
  {
   "cell_type": "code",
   "execution_count": 37,
   "metadata": {},
   "outputs": [],
   "source": [
    "from keras.layers import Activation\n",
    "model.add(Activation(\"sigmoid\"))"
   ]
  },
  {
   "cell_type": "markdown",
   "metadata": {},
   "source": [
    "- In uscita alla rete, vogliamo due nodi che indichino le probabilità per cui una recensione sia positiva o negativa\n",
    "- Creiamo un altro strato `Dense` con due nodi, ciascuno dei quali riceve in input tutti i 4 valori dello strato precedente con applicata la funzione di attivazione"
   ]
  },
  {
   "cell_type": "code",
   "execution_count": 38,
   "metadata": {},
   "outputs": [],
   "source": [
    "model.add(Dense(2))"
   ]
  },
  {
   "cell_type": "markdown",
   "metadata": {},
   "source": [
    "- Per fare in modo che gli output siano delle probabilità la cui somma è 1, applichiamo la funzione di attivazione _softmax_ che le normalizzi"
   ]
  },
  {
   "cell_type": "code",
   "execution_count": 39,
   "metadata": {},
   "outputs": [],
   "source": [
    "model.add(Activation(\"softmax\"))"
   ]
  },
  {
   "cell_type": "markdown",
   "metadata": {},
   "source": [
    "- La definizione della rete è così completa"
   ]
  },
  {
   "cell_type": "markdown",
   "metadata": {},
   "source": [
    "## Compilare una Rete\n",
    "\n",
    "- Una volta definita la struttura della rete, questa va _compilata_, ovvero va costruito il grafo delle computazioni nel backend TensorFlow\n",
    "- Per questo si usa il metodo `compile`, a cui vanno indicati\n",
    "  - la _funzione di costo_ che deve essere minimizzata, nel nostro caso è la _categorical cross entropy_ che misura di quanto le probabilità date dalla rete siano sbagliate\n",
    "  - l'algoritmo di _ottimizzazione_ usato per minimizzare la funzione di cui sopra, usiamo la _discesa gradiente stocastica_ (SGD)\n",
    "  - la metrica di valutazione che valuta la qualità effettiva della classificazione: usiamo l'accuratezza (percentuale di recensioni ben classificate)"
   ]
  },
  {
   "cell_type": "code",
   "execution_count": 40,
   "metadata": {},
   "outputs": [],
   "source": [
    "model.compile(loss=\"categorical_crossentropy\",\n",
    "              optimizer=\"sgd\",\n",
    "              metrics=[\"accuracy\"])"
   ]
  },
  {
   "cell_type": "markdown",
   "metadata": {},
   "source": [
    "## Addestrare la Rete"
   ]
  },
  {
   "cell_type": "markdown",
   "metadata": {},
   "source": [
    "- Per addestrare la rete, come per altri algoritmi, dobbiamo fornire degli esempi di input con i relativi output attesi\n",
    "- Gli input sono dati dai vettori del VSM già costruito\n",
    "- Per gli output, convertiamo le etichette in variabili _dummy_ binarie, addestrando quindi la rete a restituire 1 in corrispondenza dell'etichetta giusta e 0 altrimenti"
   ]
  },
  {
   "cell_type": "code",
   "execution_count": 41,
   "metadata": {},
   "outputs": [],
   "source": [
    "target_train = pd.get_dummies(imdb_train.label)\n",
    "target_val = pd.get_dummies(imdb_val.label)"
   ]
  },
  {
   "cell_type": "markdown",
   "metadata": {},
   "source": [
    "- Addestriamo quindi la rete specificando:\n",
    "  - input e corrispondenti output attesi\n",
    "  - una _batch size_ che indica quanti esempi considerare ad ogni passo della discesa gradiente\n",
    "  - un numero di _epoche_ che indica quante iterazioni fare sul training set\n",
    "- Il metodo `fit` restituisce un resoconto dell'addestramento"
   ]
  },
  {
   "cell_type": "code",
   "execution_count": 42,
   "metadata": {},
   "outputs": [
    {
     "name": "stdout",
     "output_type": "stream",
     "text": [
      "Epoch 1/5\n",
      "25000/25000 [==============================] - 10s 396us/step - loss: 0.7101 - acc: 0.5000\n",
      "Epoch 2/5\n",
      "25000/25000 [==============================] - 10s 396us/step - loss: 0.6978 - acc: 0.5000\n",
      "Epoch 3/5\n",
      "25000/25000 [==============================] - 10s 403us/step - loss: 0.6944 - acc: 0.5000\n",
      "Epoch 4/5\n",
      "25000/25000 [==============================] - 10s 397us/step - loss: 0.6935 - acc: 0.5000\n",
      "Epoch 5/5\n",
      "25000/25000 [==============================] - 10s 394us/step - loss: 0.6932 - acc: 0.5000\n"
     ]
    }
   ],
   "source": [
    "fit_history = model.fit(dtm_train, target_train, batch_size=1000, epochs=5)"
   ]
  },
  {
   "cell_type": "markdown",
   "metadata": {},
   "source": [
    "- Possiamo graficare l'andamento della funzione di costo durante le epoche"
   ]
  },
  {
   "cell_type": "code",
   "execution_count": 31,
   "metadata": {},
   "outputs": [],
   "source": [
    "%matplotlib inline"
   ]
  },
  {
   "cell_type": "code",
   "execution_count": 33,
   "metadata": {},
   "outputs": [
    {
     "data": {
      "text/plain": [
       "[<matplotlib.lines.Line2D at 0x7f8866fd05c0>]"
      ]
     },
     "execution_count": 33,
     "metadata": {},
     "output_type": "execute_result"
    },
    {
     "data": {
      "image/png": "[encoded data removed]",
      "text/plain": [
       "<matplotlib.figure.Figure at 0x7f8866e016d8>"
      ]
     },
     "metadata": {},
     "output_type": "display_data"
    }
   ],
   "source": [
    "import matplotlib.pyplot as plt\n",
    "plt.plot(fit_history.history[\"loss\"], \"o-\")"
   ]
  },
  {
   "cell_type": "markdown",
   "metadata": {},
   "source": [
    "## Verifica dell'Accuratezza\n",
    "\n",
    "- Per misurare la metrica di valutazione designata sul validation set, usiamo il metodo `evaluate`"
   ]
  },
  {
   "cell_type": "code",
   "execution_count": 34,
   "metadata": {},
   "outputs": [
    {
     "name": "stdout",
     "output_type": "stream",
     "text": [
      "25000/25000 [==============================] - 5s 204us/step\n"
     ]
    },
    {
     "data": {
      "text/plain": [
       "[0.6942182083892823, 0.5]"
      ]
     },
     "execution_count": 34,
     "metadata": {},
     "output_type": "execute_result"
    }
   ],
   "source": [
    "model.evaluate(dtm_val, target_val)"
   ]
  },
  {
   "cell_type": "markdown",
   "metadata": {},
   "source": [
    "- Il metodo ci restituisce sia la funzione di costo che l'accuratezza\n",
    "- In questo caso l'accuratezza non è soddisfacente, vediamo come migliorarla"
   ]
  },
  {
   "cell_type": "markdown",
   "metadata": {},
   "source": [
    "## Aggiunta di Nodi alla Rete\n",
    "\n",
    "- Ricreiamo la rete, inserendo più nodi allo strato nascosto ed usando in esso la funzione d'attivazione _Rectified Linear Unit_ (ReLU)\n",
    "- Possiamo creare un nuovo modello `Sequential` dove questa volta\n",
    "  - specifichiamo l'elenco di strati direttamente nel costruttore\n",
    "  - invece di usare strati `Activation`, specifichiamo la funzione d'attivazione direttamente nello strato `Dense`"
   ]
  },
  {
   "cell_type": "code",
   "execution_count": 43,
   "metadata": {},
   "outputs": [],
   "source": [
    "model = Sequential([\n",
    "    Dense(64, activation=\"relu\", input_dim=num_terms),\n",
    "    Dense(2, activation=\"softmax\")\n",
    "])"
   ]
  },
  {
   "cell_type": "markdown",
   "metadata": {},
   "source": [
    "- Compiliamo la rete usando l'ottimizzatore \"Adam\", una versione evoluta della discesa gradiente stocastica\n",
    "  - viene ad es. applicato un _momento_ per far sì che la direzione della discesa cambi più gradualmente"
   ]
  },
  {
   "cell_type": "code",
   "execution_count": 44,
   "metadata": {},
   "outputs": [],
   "source": [
    "model.compile(loss=\"categorical_crossentropy\",\n",
    "              optimizer=\"adam\",\n",
    "              metrics=[\"accuracy\"])"
   ]
  },
  {
   "cell_type": "markdown",
   "metadata": {},
   "source": [
    "- Addestriamo la nuova rete"
   ]
  },
  {
   "cell_type": "code",
   "execution_count": 45,
   "metadata": {},
   "outputs": [
    {
     "name": "stdout",
     "output_type": "stream",
     "text": [
      "Epoch 1/5\n",
      "25000/25000 [==============================] - 12s 483us/step - loss: 0.6386 - acc: 0.7873\n",
      "Epoch 2/5\n",
      "25000/25000 [==============================] - 12s 476us/step - loss: 0.4833 - acc: 0.8821\n",
      "Epoch 3/5\n",
      "25000/25000 [==============================] - 12s 476us/step - loss: 0.3512 - acc: 0.9079\n",
      "Epoch 4/5\n",
      "25000/25000 [==============================] - 12s 479us/step - loss: 0.2634 - acc: 0.9291\n",
      "Epoch 5/5\n",
      "25000/25000 [==============================] - 12s 473us/step - loss: 0.2073 - acc: 0.9451\n"
     ]
    }
   ],
   "source": [
    "fit_history = model.fit(dtm_train, target_train, batch_size=1000, epochs=5)"
   ]
  },
  {
   "cell_type": "markdown",
   "metadata": {},
   "source": [
    "- Con questi accorgimenti, otteniamo un'accuratezza molto più elevata"
   ]
  },
  {
   "cell_type": "code",
   "execution_count": 46,
   "metadata": {},
   "outputs": [
    {
     "name": "stdout",
     "output_type": "stream",
     "text": [
      "25000/25000 [==============================] - 6s 256us/step\n"
     ]
    },
    {
     "data": {
      "text/plain": [
       "[0.3148898386287689, 0.87512]"
      ]
     },
     "execution_count": 46,
     "metadata": {},
     "output_type": "execute_result"
    }
   ],
   "source": [
    "model.evaluate(dtm_val, target_val)"
   ]
  },
  {
   "cell_type": "markdown",
   "metadata": {},
   "source": [
    "- Possiamo avere un resoconto della rete col metodo `summary`, che mostra in particolare il numero di singoli parametri da addestrare\n",
    "  - ad esempio lo strato softmax ha 2 (nodi) * (64 (pesi strato inferiore) + 1 (bias)) = 130 parametri"
   ]
  },
  {
   "cell_type": "code",
   "execution_count": 47,
   "metadata": {},
   "outputs": [
    {
     "name": "stdout",
     "output_type": "stream",
     "text": [
      "_________________________________________________________________\n",
      "Layer (type)                 Output Shape              Param #   \n",
      "=================================================================\n",
      "dense_7 (Dense)              (None, 64)                2294656   \n",
      "_________________________________________________________________\n",
      "dense_8 (Dense)              (None, 2)                 130       \n",
      "=================================================================\n",
      "Total params: 2,294,786\n",
      "Trainable params: 2,294,786\n",
      "Non-trainable params: 0\n",
      "_________________________________________________________________\n"
     ]
    }
   ],
   "source": [
    "model.summary()"
   ]
  },
  {
   "cell_type": "markdown",
   "metadata": {},
   "source": [
    "## Reti Ricorrenti\n",
    "\n",
    "- Le _reti ricorrenti_, invece di essere sequenziali, contengono cicli che permettono di mantenere una memoria attraverso più passaggi temporali\n",
    "- Le _LSTM_ sono un tipo comune di rete ricorrente che utilizzano una struttura particolare per mantenere informazioni in memoria anche a lungo termine\n",
    "- Possiamo quindi addestrare una rete su _sequenze_ di dati: per le recensioni possiamo quindi considerare ad es. l'ordine delle parole"
   ]
  },
  {
   "cell_type": "markdown",
   "metadata": {},
   "source": [
    "## Word Embedding\n",
    "\n",
    "- Un _embedding_ è un modello che associa ad ogni parola di un dizionario un vettore in uno spazio in base alla sua semantica\n",
    "  - parole simili in significato hanno vettori simili\n",
    "- Un modello di embedding è addestrato da grandi quantità di testo, da cui si apprendono i contesti tipici di ogni parola\n",
    "- Possiamo quindi rappresentare un testo come una sequenza di vettori, ciascuno dei quali rappresenta una parola"
   ]
  },
  {
   "cell_type": "markdown",
   "metadata": {},
   "source": [
    "- Carichiamo un modello embedding preaddestrato con 100.000 parole rappresentate da vettori di misura 100"
   ]
  },
  {
   "cell_type": "code",
   "execution_count": 48,
   "metadata": {},
   "outputs": [
    {
     "data": {
      "text/plain": [
       "('embeddings.gz', <http.client.HTTPMessage at 0x7f88a6eadbe0>)"
      ]
     },
     "execution_count": 48,
     "metadata": {},
     "output_type": "execute_result"
    }
   ],
   "source": [
    "from urllib.request import urlretrieve\n",
    "urlretrieve(\"https://bit.ly/2JkZtZd\", \"embeddings.gz\")"
   ]
  },
  {
   "cell_type": "code",
   "execution_count": 50,
   "metadata": {},
   "outputs": [],
   "source": [
    "import gzip\n",
    "import numpy as np\n",
    "embedding_dict = [\"(none)\"]\n",
    "embedding = np.empty((100001, 100))\n",
    "embedding[0] = 0\n",
    "with gzip.open(\"embeddings.gz\", \"rb\") as f:\n",
    "    for i, line in enumerate(f, start=1):\n",
    "        values = line.split()\n",
    "        embedding_dict.append(values[0].decode())\n",
    "        embedding[i] = np.asarray(values[1:], dtype='float32')\n",
    "embedding_index = pd.Series(np.arange(len(embedding_dict)), index=embedding_dict)"
   ]
  },
  {
   "cell_type": "code",
   "execution_count": 51,
   "metadata": {},
   "outputs": [],
   "source": [
    "from collections import defaultdict\n",
    "embedding_index = defaultdict(lambda: 0)\n",
    "embedding_index.update({w: i for i, w in enumerate(embedding_dict)})"
   ]
  },
  {
   "cell_type": "markdown",
   "metadata": {},
   "source": [
    "- Scomponiamo le recensioni in sequenze di parole usando NLTK e da esse in sequenze di vettori dell'embedding"
   ]
  },
  {
   "cell_type": "code",
   "execution_count": 52,
   "metadata": {},
   "outputs": [
    {
     "name": "stdout",
     "output_type": "stream",
     "text": [
      "[nltk_data] Downloading package punkt to /home/pasolini/nltk_data...\n",
      "[nltk_data]   Package punkt is already up-to-date!\n"
     ]
    },
    {
     "data": {
      "text/plain": [
       "True"
      ]
     },
     "execution_count": 52,
     "metadata": {},
     "output_type": "execute_result"
    }
   ],
   "source": [
    "import nltk\n",
    "nltk.download('punkt')"
   ]
  },
  {
   "cell_type": "code",
   "execution_count": 54,
   "metadata": {},
   "outputs": [],
   "source": [
    "def text_to_token_nums(texts):\n",
    "    return [[embedding_index[term] for term in nltk.word_tokenize(text)] for text in texts]\n",
    "seqs_train = text_to_token_nums(imdb_train.text)\n",
    "seqs_val = text_to_token_nums(imdb_val.text)"
   ]
  },
  {
   "cell_type": "markdown",
   "metadata": {},
   "source": [
    "- Per addestrare la rete neurale servono sequenze di dimensioni fisse: eseguiamo il _padding_ per tagliare i testi più lunghi e riempire con vettori vuoti quelli più corti di un numero di parole fissato (quì 100)"
   ]
  },
  {
   "cell_type": "code",
   "execution_count": 55,
   "metadata": {},
   "outputs": [],
   "source": [
    "max_seq_len = 100\n",
    "from keras.preprocessing.sequence import pad_sequences\n",
    "seqmat_train = pad_sequences(seqs_train, maxlen=max_seq_len)\n",
    "seqmat_val = pad_sequences(seqs_val, maxlen=max_seq_len)"
   ]
  },
  {
   "cell_type": "markdown",
   "metadata": {},
   "source": [
    "- Creiamo la rete composta da\n",
    "  - uno strato _embedding_ che traduce le parole in ingresso nei vettori dati dal modello embedding\n",
    "  - uno strato LSTM con connessioni cicliche che riceve tutta la sequenza di vettori e restituisce i valori di output all'ultimo passaggio\n",
    "  - uno strato softmax come quello usato sopra che riceve questi valori"
   ]
  },
  {
   "cell_type": "code",
   "execution_count": 56,
   "metadata": {},
   "outputs": [],
   "source": [
    "from keras.layers import Embedding, LSTM\n",
    "model = Sequential([\n",
    "    Embedding(len(embedding_dict), 100, weights=[embedding], input_length=max_seq_len, trainable=False),\n",
    "    LSTM(16, activation=\"relu\"),\n",
    "    Dense(2, activation=\"softmax\")\n",
    "])\n",
    "model.compile(loss=\"categorical_crossentropy\",\n",
    "              optimizer=\"rmsprop\",\n",
    "              metrics=[\"accuracy\"])"
   ]
  },
  {
   "cell_type": "markdown",
   "metadata": {},
   "source": [
    "- Addestriamo la rete"
   ]
  },
  {
   "cell_type": "code",
   "execution_count": 57,
   "metadata": {},
   "outputs": [
    {
     "name": "stdout",
     "output_type": "stream",
     "text": [
      "Epoch 1/20\n",
      "25000/25000 [==============================] - 8s 323us/step - loss: 0.6840 - acc: 0.5535\n",
      "Epoch 2/20\n",
      "25000/25000 [==============================] - 8s 310us/step - loss: 0.6581 - acc: 0.6052\n",
      "Epoch 3/20\n",
      "25000/25000 [==============================] - 8s 312us/step - loss: 0.6206 - acc: 0.6562\n",
      "Epoch 4/20\n",
      "25000/25000 [==============================] - 7s 286us/step - loss: 0.5844 - acc: 0.6913\n",
      "Epoch 5/20\n",
      "25000/25000 [==============================] - 7s 287us/step - loss: 0.5599 - acc: 0.7148\n",
      "Epoch 6/20\n",
      "25000/25000 [==============================] - 7s 288us/step - loss: 0.5457 - acc: 0.7259\n",
      "Epoch 7/20\n",
      "25000/25000 [==============================] - 7s 285us/step - loss: 0.5320 - acc: 0.7386\n",
      "Epoch 8/20\n",
      "25000/25000 [==============================] - 7s 293us/step - loss: 0.5239 - acc: 0.7424\n",
      "Epoch 9/20\n",
      "25000/25000 [==============================] - 7s 290us/step - loss: 0.5151 - acc: 0.7474\n",
      "Epoch 10/20\n",
      "25000/25000 [==============================] - 7s 297us/step - loss: 0.5007 - acc: 0.7594\n",
      "Epoch 11/20\n",
      "25000/25000 [==============================] - 8s 306us/step - loss: 0.4982 - acc: 0.7575\n",
      "Epoch 12/20\n",
      "25000/25000 [==============================] - 8s 302us/step - loss: 0.4960 - acc: 0.7588\n",
      "Epoch 13/20\n",
      "25000/25000 [==============================] - 8s 305us/step - loss: 0.4794 - acc: 0.7712\n",
      "Epoch 14/20\n",
      "25000/25000 [==============================] - 8s 301us/step - loss: 0.4815 - acc: 0.7670\n",
      "Epoch 15/20\n",
      "25000/25000 [==============================] - 8s 302us/step - loss: 0.4754 - acc: 0.7712\n",
      "Epoch 16/20\n",
      "25000/25000 [==============================] - 7s 288us/step - loss: 0.4741 - acc: 0.7718\n",
      "Epoch 17/20\n",
      "25000/25000 [==============================] - 7s 297us/step - loss: 0.4654 - acc: 0.7800\n",
      "Epoch 18/20\n",
      "25000/25000 [==============================] - 7s 291us/step - loss: 0.4661 - acc: 0.7788\n",
      "Epoch 19/20\n",
      "25000/25000 [==============================] - 7s 293us/step - loss: 0.4623 - acc: 0.7825\n",
      "Epoch 20/20\n",
      "25000/25000 [==============================] - 7s 284us/step - loss: 0.4591 - acc: 0.7821\n"
     ]
    }
   ],
   "source": [
    "fit_history = model.fit(seqmat_train, target_train, batch_size=1000, epochs=20)"
   ]
  },
  {
   "cell_type": "code",
   "execution_count": 58,
   "metadata": {},
   "outputs": [
    {
     "name": "stdout",
     "output_type": "stream",
     "text": [
      "25000/25000 [==============================] - 10s 417us/step\n"
     ]
    },
    {
     "data": {
      "text/plain": [
       "[0.4762006206321716, 0.77768]"
      ]
     },
     "execution_count": 58,
     "metadata": {},
     "output_type": "execute_result"
    }
   ],
   "source": [
    "model.evaluate(seqmat_val, target_val)"
   ]
  }
 ],
 "metadata": {
  "kernelspec": {
   "display_name": "IFTS",
   "language": "python",
   "name": "ifts"
  },
  "language_info": {
   "codemirror_mode": {
    "name": "ipython",
    "version": 3
   },
   "file_extension": ".py",
   "mimetype": "text/x-python",
   "name": "python",
   "nbconvert_exporter": "python",
   "pygments_lexer": "ipython3",
   "version": "3.5.2"
  }
 },
 "nbformat": 4,
 "nbformat_minor": 2
}
